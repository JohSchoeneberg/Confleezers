{
 "cells": [
  {
   "cell_type": "markdown",
   "metadata": {},
   "source": [
    "Copyright (c) 2017/2018, Johannes Schöneberg. All rights reserved.\n",
    "The default copyright laws apply."
   ]
  },
  {
   "cell_type": "code",
   "execution_count": 1,
   "metadata": {
    "collapsed": true
   },
   "outputs": [],
   "source": [
    "%matplotlib inline\n",
    "\n",
    "import lvm_read\n",
    "import numpy as np\n",
    "import matplotlib.pyplot as plt\n",
    "import datetime\n",
    "import time\n",
    "\n",
    "import os\n",
    "import datetime\n",
    "\n",
    "import pandas as pd\n",
    "\n",
    "#own modules / functions\n",
    "import sys\n",
    "pythonPackagePath = \"/Users/johannesschoeneberg/git/JohSchoeneberg/Confleezers/confleezers_data_analysis/\"\n",
    "sys.path.append(pythonPackagePath+\"/modules\")\n",
    "import InputProcessing as inproc\n",
    "import ForceFileProcessing as ffp"
   ]
  },
  {
   "cell_type": "code",
   "execution_count": 2,
   "metadata": {
    "collapsed": true
   },
   "outputs": [],
   "source": [
    "def getSecondsRelativeToCreationOfForceFile(forceFileCreationTimestamp, timeString):\n",
    "    #convert the time string into a datetime tuple\n",
    "    date_time = timeString.split(\" \")\n",
    "    dateSplit = date_time[0].split('-')\n",
    "    timeSplit = date_time[1].split(':')\n",
    "    otherFileTimeStamp = datetime.datetime(int(dateSplit[0]), \n",
    "                         int(dateSplit[1]), \n",
    "                         int(dateSplit[2]), \n",
    "                         int(timeSplit[0]), \n",
    "                         int(timeSplit[1]), \n",
    "                         int(timeSplit[2].split('.')[0]), \n",
    "                        0)\n",
    "    #subtract the seconds\n",
    "    forceFileTimeCreatedSeconds = time.mktime(forceFileTimeCreated.timetuple())\n",
    "    otherFileCreatedSeconds = time.mktime(otherFileTimeStamp.timetuple())\n",
    "    return(otherFileCreatedSeconds-forceFileTimeCreatedSeconds)\n",
    "    "
   ]
  },
  {
   "cell_type": "code",
   "execution_count": 3,
   "metadata": {},
   "outputs": [
    {
     "data": {
      "text/html": [
       "<div>\n",
       "<style scoped>\n",
       "    .dataframe tbody tr th:only-of-type {\n",
       "        vertical-align: middle;\n",
       "    }\n",
       "\n",
       "    .dataframe tbody tr th {\n",
       "        vertical-align: top;\n",
       "    }\n",
       "\n",
       "    .dataframe thead th {\n",
       "        text-align: right;\n",
       "    }\n",
       "</style>\n",
       "<table border=\"1\" class=\"dataframe\">\n",
       "  <thead>\n",
       "    <tr style=\"text-align: right;\">\n",
       "      <th></th>\n",
       "      <th>key</th>\n",
       "      <th>value</th>\n",
       "    </tr>\n",
       "  </thead>\n",
       "  <tbody>\n",
       "    <tr>\n",
       "      <th>0</th>\n",
       "      <td>input_data_folder</td>\n",
       "      <td>./</td>\n",
       "    </tr>\n",
       "    <tr>\n",
       "      <th>1</th>\n",
       "      <td>output_data_folder</td>\n",
       "      <td>./</td>\n",
       "    </tr>\n",
       "    <tr>\n",
       "      <th>2</th>\n",
       "      <td>vesicleID_of_that_day</td>\n",
       "      <td>v8</td>\n",
       "    </tr>\n",
       "    <tr>\n",
       "      <th>3</th>\n",
       "      <td>date</td>\n",
       "      <td>2018-08-09</td>\n",
       "    </tr>\n",
       "    <tr>\n",
       "      <th>4</th>\n",
       "      <td>movie_originalFilename</td>\n",
       "      <td>v8b1001.nd2</td>\n",
       "    </tr>\n",
       "  </tbody>\n",
       "</table>\n",
       "</div>"
      ],
      "text/plain": [
       "                      key         value\n",
       "0       input_data_folder            ./\n",
       "1      output_data_folder            ./\n",
       "2   vesicleID_of_that_day            v8\n",
       "3                    date    2018-08-09\n",
       "4  movie_originalFilename   v8b1001.nd2"
      ]
     },
     "execution_count": 3,
     "metadata": {},
     "output_type": "execute_result"
    }
   ],
   "source": [
    "path = '/Volumes/Samsung_T3b/science/confleezers/2018-08-09/v8/'\n",
    "\n",
    "inputParameters = pd.read_csv(path+'_info.csv',names=['key','value'])\n",
    "\n",
    "inputDataFolder = inproc.getInputParameter(inputParameters,\"input_data_folder\")\n",
    "\n",
    "\n",
    "inputParameters[0:5]"
   ]
  },
  {
   "cell_type": "code",
   "execution_count": 4,
   "metadata": {},
   "outputs": [
    {
     "name": "stdout",
     "output_type": "stream",
     "text": [
      "/Volumes/Samsung_T3b/science/confleezers/2018-08-09/v8/forceFile_raw.lvm\n",
      "forceFile_startTime,  2018-08-09 14:45:59\n"
     ]
    }
   ],
   "source": [
    "# read the timestamp from the force file automatically\n",
    "forceFile_raw_dataShareFilename = inproc.getInputParameter(inputParameters,\"forceFile_raw_dataShareFilename\")\n",
    "infilename = path+forceFile_raw_dataShareFilename\n",
    "print(infilename)\n",
    "t,x,y,forceFileTimeCreated,xforceraw,yforceraw = ffp.readForceFile(infilename)\n",
    "\n",
    "# f\n",
    "forceFile_startTime = forceFileTimeCreated.strftime('%Y-%m-%d %H:%M:%S')\n",
    "print(\"forceFile_startTime, \",forceFile_startTime)\n",
    "\n"
   ]
  },
  {
   "cell_type": "code",
   "execution_count": 5,
   "metadata": {},
   "outputs": [
    {
     "name": "stdout",
     "output_type": "stream",
     "text": [
      "                    key                value\n",
      "15  forceFile_startTime  2018-08-09 14:45:59\n"
     ]
    }
   ],
   "source": [
    "#put in _info.csv \n",
    "row = inputParameters.loc[inputParameters['key'] == 'forceFile_startTime']\n",
    "inputParameters.loc[row.index,'value'] = forceFile_startTime\n",
    "print(inputParameters.loc[inputParameters['key'] == 'forceFile_startTime'])\n"
   ]
  },
  {
   "cell_type": "code",
   "execution_count": 6,
   "metadata": {},
   "outputs": [
    {
     "name": "stdout",
     "output_type": "stream",
     "text": [
      "movie_startTime, 2018-08-09 14:49:29\n",
      "                                         key value\n",
      "7  movie_startTime_difference_fftime_seconds   210\n",
      "\n"
     ]
    }
   ],
   "source": [
    "# read the timestamp from movie manually (fiji, info of file)\n",
    "#timestampMovie = \"TextInfoItem_99/12/201 = 7:35:33 PM\"\n",
    "#movieStartTime = \"2017-09-12 19:35:33\"\n",
    "movie_startTimes = inproc.getInputParameter(inputParameters,\"movie_startTime\").split(';')\n",
    "\n",
    "seconds_ffStart_to_movieStart_firstMovie = -1 \n",
    "#Nikon Movie:\n",
    "for movie_startTime in movie_startTimes:\n",
    "    print(\"movie_startTime,\",movie_startTime)\n",
    "    seconds_ffStart_to_movieStart = getSecondsRelativeToCreationOfForceFile(forceFileTimeCreated,movie_startTime)\n",
    "    if(seconds_ffStart_to_movieStart_firstMovie == -1):\n",
    "        seconds_ffStart_to_movieStart_firstMovie = seconds_ffStart_to_movieStart\n",
    "    #print(\"movie_startTime_difference_fftime_seconds,\",seconds_ffStart_to_movieStart)\n",
    "    \n",
    "    #put in _info.csv \n",
    "    row = inputParameters.loc[inputParameters['key'] == 'movie_startTime_difference_fftime_seconds']\n",
    "    inputParameters.loc[row.index,'value'] = seconds_ffStart_to_movieStart\n",
    "    print(inputParameters.loc[inputParameters['key'] == 'movie_startTime_difference_fftime_seconds'])\n",
    "    \n",
    "    \n",
    "    print()"
   ]
  },
  {
   "cell_type": "code",
   "execution_count": 7,
   "metadata": {},
   "outputs": [
    {
     "name": "stdout",
     "output_type": "stream",
     "text": [
      "                                          key value\n",
      "8  movie_startTime_difference_UVstart_seconds   -75\n",
      "                          key value\n",
      "17  UVstart_seconds_movietime   210\n",
      "                     key value\n",
      "18  UVstart_frames_movie   630\n",
      "                        key value\n",
      "20  UVend_seconds_movietime   510\n",
      "                   key value\n",
      "21  UVend_frames_movie  1531\n"
     ]
    }
   ],
   "source": [
    "\n",
    "\n",
    "UVstart_seconds_fftime = int(inproc.getInputParameter(inputParameters,\"UVstart_seconds_fftime\"))\n",
    "\n",
    "movie_startTime_difference_UVstart_seconds = seconds_ffStart_to_movieStart_firstMovie-UVstart_seconds_fftime\n",
    "\n",
    "#print(\"movie_startTime_difference_UVstart_seconds,\",movie_startTime_difference_UVstart_seconds)\n",
    "\n",
    "#put in _info.csv \n",
    "\n",
    "row = inputParameters.loc[inputParameters['key'] == 'movie_startTime_difference_UVstart_seconds']\n",
    "inputParameters.loc[row.index,'value'] = movie_startTime_difference_UVstart_seconds\n",
    "print(inputParameters.loc[inputParameters['key'] == 'movie_startTime_difference_UVstart_seconds'])\n",
    "\n",
    "row = inputParameters.loc[inputParameters['key'] == 'UVstart_seconds_movietime']\n",
    "inputParameters.loc[row.index,'value'] = UVstart_seconds_fftime+movie_startTime_difference_UVstart_seconds\n",
    "print(inputParameters.loc[inputParameters['key'] == 'UVstart_seconds_movietime'])\n",
    "\n",
    "\n",
    "time_between_frames_seconds = float(inproc.getInputParameter(inputParameters,\"time_between_frames_seconds\"))\n",
    "row = inputParameters.loc[inputParameters['key'] == 'UVstart_frames_movie']\n",
    "inputParameters.loc[row.index,'value'] = int(1/time_between_frames_seconds*(UVstart_seconds_fftime+movie_startTime_difference_UVstart_seconds))\n",
    "print(inputParameters.loc[inputParameters['key'] == 'UVstart_frames_movie'])\n",
    "\n",
    "\n",
    "\n",
    "#---------\n",
    "\n",
    "\n",
    "UVend_seconds_fftime = int(inproc.getInputParameter(inputParameters,\"UVend_seconds_fftime\"))\n",
    "\n",
    "row = inputParameters.loc[inputParameters['key'] == 'UVend_seconds_movietime']\n",
    "inputParameters.loc[row.index,'value'] = UVend_seconds_fftime+movie_startTime_difference_UVstart_seconds\n",
    "print(inputParameters.loc[inputParameters['key'] == 'UVend_seconds_movietime'])\n",
    "\n",
    "\n",
    "time_between_frames_seconds = float(inproc.getInputParameter(inputParameters,\"time_between_frames_seconds\"))\n",
    "row = inputParameters.loc[inputParameters['key'] == 'UVend_frames_movie']\n",
    "inputParameters.loc[row.index,'value'] = int(1/time_between_frames_seconds*(UVend_seconds_fftime+movie_startTime_difference_UVstart_seconds))\n",
    "print(inputParameters.loc[inputParameters['key'] == 'UVend_frames_movie'])\n",
    "\n",
    "\n",
    "\n",
    "\n",
    "\n",
    "\n",
    "\n"
   ]
  },
  {
   "cell_type": "markdown",
   "metadata": {},
   "source": [
    "# save data in _info.csv"
   ]
  },
  {
   "cell_type": "code",
   "execution_count": 8,
   "metadata": {
    "collapsed": true
   },
   "outputs": [],
   "source": [
    "inputParameters.to_csv(path+'_info.csv',index=False,header=False)"
   ]
  },
  {
   "cell_type": "markdown",
   "metadata": {},
   "source": [
    "# Other sometimes maybe useful functions"
   ]
  },
  {
   "cell_type": "code",
   "execution_count": null,
   "metadata": {
    "collapsed": true
   },
   "outputs": [],
   "source": [
    "\n",
    "def getLastModifiedTime(filename):\n",
    "    imageTimeCreated = os.path.getmtime(filename)\n",
    "    #print(imageTimeCreated)\n",
    "\n",
    "    \n",
    "    timestamp = imageTimeCreated\n",
    "    value = datetime.datetime.fromtimestamp(timestamp)\n",
    "    \n",
    "    stringtime = value.strftime('%Y-%m-%d %H:%M:%S')\n",
    "#    print(stringtime)\n",
    "    \n",
    "    return([imageTimeCreated,stringtime])\n",
    "    "
   ]
  },
  {
   "cell_type": "code",
   "execution_count": 14,
   "metadata": {},
   "outputs": [
    {
     "data": {
      "text/plain": [
       "[1505270544.0, '2017-09-12 19:42:24']"
      ]
     },
     "execution_count": 14,
     "metadata": {},
     "output_type": "execute_result"
    }
   ],
   "source": [
    "getLastModifiedTime(\"./input/vesicle_tube_UV_movie.nd2\")"
   ]
  },
  {
   "cell_type": "code",
   "execution_count": 15,
   "metadata": {
    "collapsed": true
   },
   "outputs": [],
   "source": [
    "def getLVMdatetime(lvmTimeString,lvmDateString):\n",
    "    dateString = lvmDateString\n",
    "    dateSplit=dateString.split('/')\n",
    "    \n",
    "\n",
    "    timeString = lvmTimeString\n",
    "    timeSplit=timeString.split(':')\n",
    "\n",
    "    #test = datetime.datetime(2017, 6, 26, 18, 21, 16, 533499)\n",
    "    # this is the time the file was r\n",
    "    test = datetime.datetime(int(dateSplit[0]), \n",
    "                         int(dateSplit[1]), \n",
    "                         int(dateSplit[2]), \n",
    "                         int(timeSplit[0]), \n",
    "                         int(timeSplit[1]), \n",
    "                         int(timeSplit[2].split('.')[0]), \n",
    "                        0)\n",
    "    \n",
    "    #print(test.strftime('%Y-%m-%d %H:%M:%S'))\n",
    "    return test"
   ]
  },
  {
   "cell_type": "code",
   "execution_count": 16,
   "metadata": {
    "collapsed": true
   },
   "outputs": [],
   "source": [
    "import os\n",
    "import platform\n",
    "\n",
    "def creation_date(path_to_file):\n",
    "    \"\"\"\n",
    "    Try to get the date that a file was created, falling back to when it was\n",
    "    last modified if that isn't possible.\n",
    "    See http://stackoverflow.com/a/39501288/1709587 for explanation.\n",
    "    \"\"\"\n",
    "    if platform.system() == 'Windows':\n",
    "        return os.path.getctime(path_to_file)\n",
    "    else:\n",
    "        stat = os.stat(path_to_file)\n",
    "        try:\n",
    "            return stat.st_birthtime\n",
    "        except AttributeError:\n",
    "            # We're probably on Linux. No easy way to get creation dates here,\n",
    "            # so we'll settle for when its content was last modified.\n",
    "            return stat.st_mtime"
   ]
  },
  {
   "cell_type": "code",
   "execution_count": 17,
   "metadata": {},
   "outputs": [
    {
     "data": {
      "text/plain": [
       "[1505270544.0, '2017-09-12 19:42:24']"
      ]
     },
     "execution_count": 17,
     "metadata": {},
     "output_type": "execute_result"
    }
   ],
   "source": [
    "getLastModifiedTime(\"./input/vesicle_tube_UV_movie.nd2\")"
   ]
  }
 ],
 "metadata": {
  "kernelspec": {
   "display_name": "Python 3",
   "language": "python",
   "name": "python3"
  },
  "language_info": {
   "codemirror_mode": {
    "name": "ipython",
    "version": 3
   },
   "file_extension": ".py",
   "mimetype": "text/x-python",
   "name": "python",
   "nbconvert_exporter": "python",
   "pygments_lexer": "ipython3",
   "version": "3.6.3"
  }
 },
 "nbformat": 4,
 "nbformat_minor": 2
}
