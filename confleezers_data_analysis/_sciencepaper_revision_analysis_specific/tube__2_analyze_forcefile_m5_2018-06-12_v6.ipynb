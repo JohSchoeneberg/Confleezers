{
 "cells": [
  {
   "cell_type": "markdown",
   "metadata": {},
   "source": [
    "Copyright (c) 2017/2018, Johannes Schöneberg All rights reserved.\n",
    "The default copyright laws apply."
   ]
  },
  {
   "cell_type": "code",
   "execution_count": 104,
   "metadata": {
    "collapsed": true
   },
   "outputs": [],
   "source": [
    "# by Joh Schöneberg 2018\n",
    "\n",
    "%matplotlib inline\n",
    "\n",
    "#pip install lvm_read\n",
    "import lvm_read\n",
    "import numpy as np\n",
    "import matplotlib.pyplot as plt\n",
    "import datetime\n",
    "import time\n",
    "\n",
    "import scipy.ndimage\n",
    "\n",
    "\n",
    "\n",
    "\n",
    "%matplotlib inline\n",
    "import numpy as np\n",
    "import matplotlib.pyplot as plt\n",
    "\n",
    "from numpy import genfromtxt\n",
    "\n",
    "\n",
    "import pandas as pd\n",
    "\n",
    "from mpl_toolkits import mplot3d\n",
    "#%matplotlib notebook\n",
    "\n",
    "#own modules / functions\n",
    "import sys\n",
    "pythonPackagePath = \"/Users/johannesschoeneberg/git/JohSchoeneberg/Confleezers/confleezers_data_analysis/\"\n",
    "sys.path.append(pythonPackagePath+\"/modules\")\n",
    "import InputProcessing as inproc\n",
    "import ForceFileProcessing as ffp\n"
   ]
  },
  {
   "cell_type": "code",
   "execution_count": 192,
   "metadata": {},
   "outputs": [
    {
     "data": {
      "text/html": [
       "<div>\n",
       "<style scoped>\n",
       "    .dataframe tbody tr th:only-of-type {\n",
       "        vertical-align: middle;\n",
       "    }\n",
       "\n",
       "    .dataframe tbody tr th {\n",
       "        vertical-align: top;\n",
       "    }\n",
       "\n",
       "    .dataframe thead th {\n",
       "        text-align: right;\n",
       "    }\n",
       "</style>\n",
       "<table border=\"1\" class=\"dataframe\">\n",
       "  <thead>\n",
       "    <tr style=\"text-align: right;\">\n",
       "      <th></th>\n",
       "      <th>key</th>\n",
       "      <th>value</th>\n",
       "    </tr>\n",
       "  </thead>\n",
       "  <tbody>\n",
       "    <tr>\n",
       "      <th>0</th>\n",
       "      <td>key</td>\n",
       "      <td>value</td>\n",
       "    </tr>\n",
       "    <tr>\n",
       "      <th>1</th>\n",
       "      <td>key</td>\n",
       "      <td>value</td>\n",
       "    </tr>\n",
       "    <tr>\n",
       "      <th>2</th>\n",
       "      <td>key</td>\n",
       "      <td>rocknroll</td>\n",
       "    </tr>\n",
       "    <tr>\n",
       "      <th>3</th>\n",
       "      <td>key</td>\n",
       "      <td>value</td>\n",
       "    </tr>\n",
       "    <tr>\n",
       "      <th>4</th>\n",
       "      <td>input_data_folder</td>\n",
       "      <td>./</td>\n",
       "    </tr>\n",
       "    <tr>\n",
       "      <th>5</th>\n",
       "      <td>output_data_folder</td>\n",
       "      <td>./</td>\n",
       "    </tr>\n",
       "    <tr>\n",
       "      <th>6</th>\n",
       "      <td>vesicleID_of_that_day</td>\n",
       "      <td>6</td>\n",
       "    </tr>\n",
       "    <tr>\n",
       "      <th>7</th>\n",
       "      <td>forceFile_raw_originalFilename</td>\n",
       "      <td>measurement__173.lvm</td>\n",
       "    </tr>\n",
       "    <tr>\n",
       "      <th>8</th>\n",
       "      <td>forceFile_raw_dataShareFilename</td>\n",
       "      <td>forceFile_raw.lvm</td>\n",
       "    </tr>\n",
       "    <tr>\n",
       "      <th>9</th>\n",
       "      <td>forceFile</td>\n",
       "      <td>forceFile.csv</td>\n",
       "    </tr>\n",
       "    <tr>\n",
       "      <th>10</th>\n",
       "      <td>forceFile_plot</td>\n",
       "      <td>forceFile.png</td>\n",
       "    </tr>\n",
       "    <tr>\n",
       "      <th>11</th>\n",
       "      <td>forceFile_alpha_y</td>\n",
       "      <td>-1519</td>\n",
       "    </tr>\n",
       "    <tr>\n",
       "      <th>12</th>\n",
       "      <td>forceFile_kappa_y</td>\n",
       "      <td>0.1992</td>\n",
       "    </tr>\n",
       "    <tr>\n",
       "      <th>13</th>\n",
       "      <td>forceFile_startTime</td>\n",
       "      <td>NONE eg: 2018-06-05 13:38:11</td>\n",
       "    </tr>\n",
       "    <tr>\n",
       "      <th>14</th>\n",
       "      <td>ffprocessing_zoomTime0</td>\n",
       "      <td>0</td>\n",
       "    </tr>\n",
       "    <tr>\n",
       "      <th>15</th>\n",
       "      <td>ffprocessing_zoomTime1</td>\n",
       "      <td>1870</td>\n",
       "    </tr>\n",
       "    <tr>\n",
       "      <th>16</th>\n",
       "      <td>ffprocessing_doFit</td>\n",
       "      <td>False</td>\n",
       "    </tr>\n",
       "    <tr>\n",
       "      <th>17</th>\n",
       "      <td>ffprocessing_fitStart</td>\n",
       "      <td>100</td>\n",
       "    </tr>\n",
       "    <tr>\n",
       "      <th>18</th>\n",
       "      <td>ffprocessing_fitEnd</td>\n",
       "      <td>140</td>\n",
       "    </tr>\n",
       "    <tr>\n",
       "      <th>19</th>\n",
       "      <td>force_f0_pN</td>\n",
       "      <td>26.16</td>\n",
       "    </tr>\n",
       "    <tr>\n",
       "      <th>20</th>\n",
       "      <td>force_fmax_pN</td>\n",
       "      <td>61.61</td>\n",
       "    </tr>\n",
       "    <tr>\n",
       "      <th>21</th>\n",
       "      <td>force_deltaF_pN</td>\n",
       "      <td>35.45</td>\n",
       "    </tr>\n",
       "    <tr>\n",
       "      <th>22</th>\n",
       "      <td>UVstart_seconds_fftime</td>\n",
       "      <td>150</td>\n",
       "    </tr>\n",
       "    <tr>\n",
       "      <th>23</th>\n",
       "      <td>UVend_seconds_fftime</td>\n",
       "      <td>450</td>\n",
       "    </tr>\n",
       "    <tr>\n",
       "      <th>24</th>\n",
       "      <td>tube_break_seconds_fftime</td>\n",
       "      <td>1864</td>\n",
       "    </tr>\n",
       "    <tr>\n",
       "      <th>25</th>\n",
       "      <td>tube_vector_file</td>\n",
       "      <td>NONE eg: NONE eg: tube_vector.csv</td>\n",
       "    </tr>\n",
       "    <tr>\n",
       "      <th>26</th>\n",
       "      <td>movie_originalFilename</td>\n",
       "      <td>V3004.nd2; V3005.nd2</td>\n",
       "    </tr>\n",
       "    <tr>\n",
       "      <th>27</th>\n",
       "      <td>movie_dataShareFilename</td>\n",
       "      <td>NONE eg: 2018-06-05_raw_movie.nd2</td>\n",
       "    </tr>\n",
       "    <tr>\n",
       "      <th>28</th>\n",
       "      <td>movie_timestamp</td>\n",
       "      <td>TextInfoItem_96/12/201 = 9:55:52 PM</td>\n",
       "    </tr>\n",
       "    <tr>\n",
       "      <th>29</th>\n",
       "      <td>movie_startTime</td>\n",
       "      <td>2018-06-12 21:55:52</td>\n",
       "    </tr>\n",
       "    <tr>\n",
       "      <th>30</th>\n",
       "      <td>movie_startTime_difference_fftime_seconds</td>\n",
       "      <td>87.0</td>\n",
       "    </tr>\n",
       "    <tr>\n",
       "      <th>31</th>\n",
       "      <td>movie_startTime_difference_UVstart_seconds</td>\n",
       "      <td>-63.0</td>\n",
       "    </tr>\n",
       "    <tr>\n",
       "      <th>32</th>\n",
       "      <td>movie_zoomVesicle_ROI</td>\n",
       "      <td>NONE eg: 1723-0286-0336_zoomVesicle.roi</td>\n",
       "    </tr>\n",
       "    <tr>\n",
       "      <th>33</th>\n",
       "      <td>movie_zoomVesicle_ch0</td>\n",
       "      <td>NONE eg: movie_ch0_avg20_zoomVesicle_BleachCo...</td>\n",
       "    </tr>\n",
       "    <tr>\n",
       "      <th>34</th>\n",
       "      <td>movie_zoomVesicle_ch1</td>\n",
       "      <td>NONE eg: movie_ch1_avg20_zoomVesicle_BleachCo...</td>\n",
       "    </tr>\n",
       "    <tr>\n",
       "      <th>35</th>\n",
       "      <td>movie_zoomVesicle_ch2</td>\n",
       "      <td>NONE eg: movie_ch2_avg20_zoomVesicle_BleachCo...</td>\n",
       "    </tr>\n",
       "    <tr>\n",
       "      <th>36</th>\n",
       "      <td>movie_zoomVesicle_ch3</td>\n",
       "      <td>NONE eg: movie_ch3_avg20_zoomVesicle.tif</td>\n",
       "    </tr>\n",
       "    <tr>\n",
       "      <th>37</th>\n",
       "      <td>laserPower_percent</td>\n",
       "      <td>25</td>\n",
       "    </tr>\n",
       "    <tr>\n",
       "      <th>38</th>\n",
       "      <td>experimentConditions</td>\n",
       "      <td>2uM proteins</td>\n",
       "    </tr>\n",
       "    <tr>\n",
       "      <th>39</th>\n",
       "      <td>ch0</td>\n",
       "      <td>atto488 membrane</td>\n",
       "    </tr>\n",
       "    <tr>\n",
       "      <th>40</th>\n",
       "      <td>ch1</td>\n",
       "      <td>lumidyne550 snf7</td>\n",
       "    </tr>\n",
       "    <tr>\n",
       "      <th>41</th>\n",
       "      <td>ch2</td>\n",
       "      <td>lumidyne650 vps4</td>\n",
       "    </tr>\n",
       "    <tr>\n",
       "      <th>42</th>\n",
       "      <td>ch3</td>\n",
       "      <td>transmitted detector</td>\n",
       "    </tr>\n",
       "    <tr>\n",
       "      <th>43</th>\n",
       "      <td>detector</td>\n",
       "      <td>resonant</td>\n",
       "    </tr>\n",
       "    <tr>\n",
       "      <th>44</th>\n",
       "      <td>acquisition_parameters</td>\n",
       "      <td>normal; channel series;</td>\n",
       "    </tr>\n",
       "    <tr>\n",
       "      <th>45</th>\n",
       "      <td>acquisition_parameters_ch0</td>\n",
       "      <td>HV 30; LP 0.50</td>\n",
       "    </tr>\n",
       "    <tr>\n",
       "      <th>46</th>\n",
       "      <td>acquisition_parameters_ch1</td>\n",
       "      <td>HV 100; LP 1.00</td>\n",
       "    </tr>\n",
       "    <tr>\n",
       "      <th>47</th>\n",
       "      <td>acquisition_parameters_ch2</td>\n",
       "      <td>HV 120; LP 2.00</td>\n",
       "    </tr>\n",
       "    <tr>\n",
       "      <th>48</th>\n",
       "      <td>acquisition_parameters_ch3</td>\n",
       "      <td>HV 80; LP 0.00</td>\n",
       "    </tr>\n",
       "    <tr>\n",
       "      <th>49</th>\n",
       "      <td>framerate_per_second</td>\n",
       "      <td>3</td>\n",
       "    </tr>\n",
       "    <tr>\n",
       "      <th>50</th>\n",
       "      <td>time_between_frames_seconds</td>\n",
       "      <td>0.333</td>\n",
       "    </tr>\n",
       "  </tbody>\n",
       "</table>\n",
       "</div>"
      ],
      "text/plain": [
       "                                           key  \\\n",
       "0                                          key   \n",
       "1                                          key   \n",
       "2                                          key   \n",
       "3                                          key   \n",
       "4                            input_data_folder   \n",
       "5                           output_data_folder   \n",
       "6                        vesicleID_of_that_day   \n",
       "7               forceFile_raw_originalFilename   \n",
       "8              forceFile_raw_dataShareFilename   \n",
       "9                                    forceFile   \n",
       "10                              forceFile_plot   \n",
       "11                           forceFile_alpha_y   \n",
       "12                           forceFile_kappa_y   \n",
       "13                         forceFile_startTime   \n",
       "14                      ffprocessing_zoomTime0   \n",
       "15                      ffprocessing_zoomTime1   \n",
       "16                          ffprocessing_doFit   \n",
       "17                       ffprocessing_fitStart   \n",
       "18                         ffprocessing_fitEnd   \n",
       "19                                 force_f0_pN   \n",
       "20                               force_fmax_pN   \n",
       "21                             force_deltaF_pN   \n",
       "22                      UVstart_seconds_fftime   \n",
       "23                        UVend_seconds_fftime   \n",
       "24                   tube_break_seconds_fftime   \n",
       "25                            tube_vector_file   \n",
       "26                      movie_originalFilename   \n",
       "27                     movie_dataShareFilename   \n",
       "28                             movie_timestamp   \n",
       "29                             movie_startTime   \n",
       "30   movie_startTime_difference_fftime_seconds   \n",
       "31  movie_startTime_difference_UVstart_seconds   \n",
       "32                       movie_zoomVesicle_ROI   \n",
       "33                       movie_zoomVesicle_ch0   \n",
       "34                       movie_zoomVesicle_ch1   \n",
       "35                       movie_zoomVesicle_ch2   \n",
       "36                       movie_zoomVesicle_ch3   \n",
       "37                          laserPower_percent   \n",
       "38                        experimentConditions   \n",
       "39                                         ch0   \n",
       "40                                         ch1   \n",
       "41                                         ch2   \n",
       "42                                         ch3   \n",
       "43                                    detector   \n",
       "44                      acquisition_parameters   \n",
       "45                  acquisition_parameters_ch0   \n",
       "46                  acquisition_parameters_ch1   \n",
       "47                  acquisition_parameters_ch2   \n",
       "48                  acquisition_parameters_ch3   \n",
       "49                        framerate_per_second   \n",
       "50                 time_between_frames_seconds   \n",
       "\n",
       "                                                value  \n",
       "0                                               value  \n",
       "1                                               value  \n",
       "2                                           rocknroll  \n",
       "3                                               value  \n",
       "4                                                  ./  \n",
       "5                                                  ./  \n",
       "6                                                   6  \n",
       "7                               measurement__173.lvm   \n",
       "8                                   forceFile_raw.lvm  \n",
       "9                                       forceFile.csv  \n",
       "10                                      forceFile.png  \n",
       "11                                              -1519  \n",
       "12                                             0.1992  \n",
       "13                       NONE eg: 2018-06-05 13:38:11  \n",
       "14                                                  0  \n",
       "15                                               1870  \n",
       "16                                              False  \n",
       "17                                                100  \n",
       "18                                                140  \n",
       "19                                              26.16  \n",
       "20                                              61.61  \n",
       "21                                              35.45  \n",
       "22                                                150  \n",
       "23                                                450  \n",
       "24                                               1864  \n",
       "25                  NONE eg: NONE eg: tube_vector.csv  \n",
       "26                               V3004.nd2; V3005.nd2  \n",
       "27                  NONE eg: 2018-06-05_raw_movie.nd2  \n",
       "28                TextInfoItem_96/12/201 = 9:55:52 PM  \n",
       "29                                2018-06-12 21:55:52  \n",
       "30                                               87.0  \n",
       "31                                              -63.0  \n",
       "32            NONE eg: 1723-0286-0336_zoomVesicle.roi  \n",
       "33   NONE eg: movie_ch0_avg20_zoomVesicle_BleachCo...  \n",
       "34   NONE eg: movie_ch1_avg20_zoomVesicle_BleachCo...  \n",
       "35   NONE eg: movie_ch2_avg20_zoomVesicle_BleachCo...  \n",
       "36           NONE eg: movie_ch3_avg20_zoomVesicle.tif  \n",
       "37                                                 25  \n",
       "38                                       2uM proteins  \n",
       "39                                   atto488 membrane  \n",
       "40                                   lumidyne550 snf7  \n",
       "41                                   lumidyne650 vps4  \n",
       "42                               transmitted detector  \n",
       "43                                           resonant  \n",
       "44                           normal; channel series;   \n",
       "45                                     HV 30; LP 0.50  \n",
       "46                                    HV 100; LP 1.00  \n",
       "47                                    HV 120; LP 2.00  \n",
       "48                                     HV 80; LP 0.00  \n",
       "49                                                  3  \n",
       "50                                              0.333  "
      ]
     },
     "execution_count": 192,
     "metadata": {},
     "output_type": "execute_result"
    }
   ],
   "source": [
    "path = '/Users/johannesschoeneberg/Dropbox/ESCRT_data_sharing/m5_2018-06-12_v6/'\n",
    "\n",
    "inputParameters = pd.read_csv(path+'_info.csv',names=['key','value'])\n",
    "\n",
    "inputDataFolder = inproc.getInputParameter(inputParameters,\"input_data_folder\")\n",
    "\n",
    "\n",
    "inputParameters"
   ]
  },
  {
   "cell_type": "code",
   "execution_count": 106,
   "metadata": {
    "collapsed": true
   },
   "outputs": [],
   "source": [
    "def ma(a, n=1000) :\n",
    "    ret = np.cumsum(a, dtype=float)\n",
    "    ret[n:] = ret[n:] - ret[:-n]\n",
    "    return ret[n - 1:]/n"
   ]
  },
  {
   "cell_type": "code",
   "execution_count": 107,
   "metadata": {
    "collapsed": true
   },
   "outputs": [],
   "source": [
    "def getTrajectoryIndexOfTimePoint(timepoint,t):\n",
    "    return np.where(np.round(t)==timepoint)[0][0]\n"
   ]
  },
  {
   "cell_type": "code",
   "execution_count": 108,
   "metadata": {
    "collapsed": true
   },
   "outputs": [],
   "source": [
    "# this function puts zeros in all positions after the scission event\n",
    "def cleanForceFileAfterBreak(forceTrajectory,t,breakTime):\n",
    "    newTrace = []\n",
    "    idx = getTrajectoryIndexOfTimePoint(breakTime,t)\n",
    "    for i in range(0,len(forceTrajectory)):\n",
    "        if(i>=idx):\n",
    "            newTrace.append(0)\n",
    "        else:\n",
    "            newTrace.append(forceTrajectory[i])\n",
    "    return np.array(newTrace)"
   ]
  },
  {
   "cell_type": "code",
   "execution_count": 109,
   "metadata": {},
   "outputs": [
    {
     "name": "stdout",
     "output_type": "stream",
     "text": [
      "/Users/johannesschoeneberg/Dropbox/ESCRT_data_sharing/m5_2018-06-12_v6/forceFile_raw.lvm\n"
     ]
    },
    {
     "data": {
      "text/plain": [
       "Text(0,0.5,'force [AU]')"
      ]
     },
     "execution_count": 109,
     "metadata": {},
     "output_type": "execute_result"
    },
    {
     "data": {
      "image/png": "[encoded data removed]",
      "text/plain": [
       "<matplotlib.figure.Figure at 0x10e138908>"
      ]
     },
     "metadata": {},
     "output_type": "display_data"
    }
   ],
   "source": [
    "forceFile_raw_dataShareFilename = inproc.getInputParameter(inputParameters,\"forceFile_raw_dataShareFilename\")\n",
    "infilename = path+forceFile_raw_dataShareFilename\n",
    "\n",
    "#infilename = '/Volumes/Samsung_T3b/science/confleezers/2018-07-12/measurement__223.lvm'\n",
    "\n",
    "print(infilename)\n",
    "t,x,y,forceFileTimeCreated,xforceraw,yForceRaw = ffp.readForceFile(infilename)\n",
    "\n",
    "\n",
    "plt.plot(t,scipy.ndimage.median_filter(x,50),c=\"b\",label='x')\n",
    "plt.plot(t,scipy.ndimage.median_filter(y,50),c=\"r\",label='y')\n",
    "plt.legend()\n",
    "plt.title(\"Force over Time raw\")\n",
    "plt.xlabel(\"time [s]\")\n",
    "plt.ylabel(\"force [AU]\")"
   ]
  },
  {
   "cell_type": "markdown",
   "metadata": {},
   "source": [
    "# force file processing"
   ]
  },
  {
   "cell_type": "code",
   "execution_count": 121,
   "metadata": {},
   "outputs": [
    {
     "data": {
      "text/plain": [
       "(0, 1880)"
      ]
     },
     "execution_count": 121,
     "metadata": {},
     "output_type": "execute_result"
    },
    {
     "data": {
      "image/png": "[encoded data removed]",
      "text/plain": [
       "<matplotlib.figure.Figure at 0x18b45bd6d8>"
      ]
     },
     "metadata": {},
     "output_type": "display_data"
    }
   ],
   "source": [
    "forceFile_alpha_y = float(inproc.getInputParameter(inputParameters,\"forceFile_alpha_y\"))\n",
    "forceFile_kappa_y = float(inproc.getInputParameter(inputParameters,\"forceFile_kappa_y\"))\n",
    "\n",
    "plt.plot(t,scipy.ndimage.median_filter(forceFile_alpha_y*forceFile_kappa_y*yForceRaw,50),c=\"r\")\n",
    "plt.xlim(0,1880) #use this to search for the exact break time in fftime."
   ]
  },
  {
   "cell_type": "code",
   "execution_count": 127,
   "metadata": {},
   "outputs": [
    {
     "name": "stdout",
     "output_type": "stream",
     "text": [
      "(-195.0, 2228.2000000000003)\n"
     ]
    }
   ],
   "source": [
    "#forceScale = 4\n",
    "\n",
    "forceScale = forceFile_alpha_y*forceFile_kappa_y\n",
    "\n",
    "UVstart_seconds_fftime = float(inproc.getInputParameter(inputParameters,\"UVstart_seconds_fftime\"))\n",
    "tube_break_seconds_fftime = float(inproc.getInputParameter(inputParameters,\"tube_break_seconds_fftime\"))\n",
    "\n",
    "\n",
    "time_UV = UVstart_seconds_fftime #seconds after the force file was created\n",
    "breakTime = tube_break_seconds_fftime #second that the tube breaks\n",
    "xlimit = (-1.3*time_UV,1.3*(breakTime-time_UV))\n",
    "print(xlimit)\n",
    "\n",
    "#this sets the section of the force file that is relevant for future analysis, \n",
    "# i.e. from tube pulling to just after break\n",
    "zoomTime0 = float(inproc.getInputParameter(inputParameters,\"ffprocessing_zoomTime0\"))\n",
    "zoomTime1 = float(inproc.getInputParameter(inputParameters,\"ffprocessing_zoomTime1\"))"
   ]
  },
  {
   "cell_type": "code",
   "execution_count": 128,
   "metadata": {},
   "outputs": [
    {
     "data": {
      "image/png": "[encoded data removed]",
      "text/plain": [
       "<matplotlib.figure.Figure at 0x10bc87470>"
      ]
     },
     "metadata": {},
     "output_type": "display_data"
    }
   ],
   "source": [
    "# rescaling approx..\n",
    "\n",
    "idx0 = getTrajectoryIndexOfTimePoint(zoomTime0,t)\n",
    "idx1 = getTrajectoryIndexOfTimePoint(zoomTime1,t)\n",
    "\n",
    "\n",
    "\n",
    "cleanedTrace = scipy.ndimage.median_filter(cleanForceFileAfterBreak(yForceRaw,t,breakTime)[idx0:idx1],100)\n",
    "\n",
    "plt.plot(t[idx0:idx1]-time_UV,forceScale*cleanedTrace,c='k',lw=3)\n",
    "plt.xlabel(\"time [s]\")\n",
    "plt.ylabel(\"force [pN]\")\n",
    "plt.axvline(0, color='k', linestyle='--', lw=0.8)\n",
    "plt.xlim(xlimit[0],xlimit[1])\n",
    "plt.gca().spines['right'].set_visible(False)\n",
    "plt.gca().spines['top'].set_visible(False)\n",
    "plt.show()"
   ]
  },
  {
   "cell_type": "markdown",
   "metadata": {},
   "source": [
    "# if necessary: fit the baseline and adjust the rest accordingly"
   ]
  },
  {
   "cell_type": "code",
   "execution_count": 138,
   "metadata": {
    "collapsed": true
   },
   "outputs": [],
   "source": [
    "def plotTraceTime(t,y,idx0=-1,idx1=-1):\n",
    "    cleanedTrace = scipy.ndimage.median_filter(cleanForceFileAfterBreak(y,t,breakTime)[idx0:idx1],100)\n",
    "\n",
    "    plt.plot(t[idx0:idx1],forceScale*cleanedTrace,c='k',lw=3)\n",
    "    plt.xlabel(\"time [s]\")\n",
    "    plt.ylabel(\"force [pN]\")\n",
    "\n",
    "#    plt.xlim(time[idxfrom-1000],time[idxto+1000])\n",
    "    plt.show()"
   ]
  },
  {
   "cell_type": "code",
   "execution_count": 139,
   "metadata": {},
   "outputs": [
    {
     "name": "stdout",
     "output_type": "stream",
     "text": [
      "158935 223159\n"
     ]
    },
    {
     "data": {
      "image/png": "[encoded data removed]",
      "text/plain": [
       "<matplotlib.figure.Figure at 0x1812a09860>"
      ]
     },
     "metadata": {},
     "output_type": "display_data"
    }
   ],
   "source": [
    "#manually adjust this value\n",
    "#fit is done from $fitStart to $UV_startTime\n",
    "# adjust $fitStart according to experimental condition\n",
    "\n",
    "fitStart = float(inproc.getInputParameter(inputParameters,\"ffprocessing_fitStart\")) #seconds\n",
    "fitEnd = float(inproc.getInputParameter(inputParameters,\"ffprocessing_fitEnd\"))#UV_startTime\n",
    "\n",
    "UV_startTime = time_UV\n",
    "\n",
    "baseline_idx0 = getTrajectoryIndexOfTimePoint(fitStart,t)\n",
    "baseline_idx1 = getTrajectoryIndexOfTimePoint(fitEnd,t)\n",
    "print(baseline_idx0,baseline_idx1)\n",
    "plotTraceTime(t,yForceRaw,baseline_idx0,baseline_idx1)\n",
    "\n"
   ]
  },
  {
   "cell_type": "code",
   "execution_count": 140,
   "metadata": {
    "collapsed": true
   },
   "outputs": [],
   "source": [
    "# fit the baseline\n",
    "# http://stackoverflow.com/questions/6148207/linear-regression-with-matplotlib-numpy\n",
    "def fitBaselineLinear(t,y,idx0,idx1):\n",
    "\n",
    "    time = t\n",
    "    force = y\n",
    "    \n",
    "    \n",
    "    x = time[idx0:idx1]\n",
    "    y = force[idx0:idx1]\n",
    "    \n",
    "    fit_baseline = np.polyfit(x,y,1)\n",
    "    fit_fn_baseline = np.poly1d(fit_baseline) \n",
    "    # fit_fn is now a function which takes in x and returns an estimate for y\n",
    "    \n",
    "\n",
    "    \n",
    "    def fn(x):\n",
    "        return np.multiply(fit_fn_baseline[0],x)+fit_fn_baseline[1]\n",
    "    \n",
    "    #plt.plot(x,y, '-', x, fit_fn_baseline(x), '--k')\n",
    "    #plt.show()\n",
    "    return(fit_baseline)\n",
    "\n",
    "\n",
    "\n",
    "#plotTraceTime(fileData,idx0,idx1)"
   ]
  },
  {
   "cell_type": "code",
   "execution_count": 142,
   "metadata": {},
   "outputs": [
    {
     "data": {
      "text/plain": [
       "Text(0,0.5,'force[pN]')"
      ]
     },
     "execution_count": 142,
     "metadata": {},
     "output_type": "execute_result"
    },
    {
     "data": {
      "image/png": "[encoded data removed]",
      "text/plain": [
       "<matplotlib.figure.Figure at 0x181a8b55c0>"
      ]
     },
     "metadata": {},
     "output_type": "display_data"
    }
   ],
   "source": [
    "ffprocessing_doFit = bool(inproc.getInputParameter(inputParameters,\"ffprocessing_doFit\")) #seconds\n",
    "\n",
    "\n",
    "if (ffprocessing_doFit=='True'):\n",
    "    baselineFit = fitBaselineLinear(t,yForceRaw,baseline_idx0,baseline_idx1)\n",
    "else:    \n",
    "    forceNoChange = np.empty(len(t))\n",
    "    forceNoChange.fill(yForceRaw[baseline_idx1])\n",
    "    baselineFit = fitBaselineLinear(t,forceNoChange,baseline_idx0,baseline_idx1)\n",
    "\n",
    "\n",
    "\n",
    "\n",
    "time = t\n",
    "force = yForceRaw\n",
    "\n",
    "whole_idx0 = idx0\n",
    "whole_idx1 = idx1\n",
    "\n",
    "xx = time[whole_idx0:whole_idx1]\n",
    "yy = force[whole_idx0:whole_idx1]\n",
    "\n",
    "fit_fn_baseline = np.poly1d(baselineFit) \n",
    "# fit_fn is now a function which takes in x and returns an estimate for y\n",
    "\n",
    "ws = 20\n",
    "plt.plot(scipy.ndimage.median_filter(xx,ws),-1*scipy.ndimage.median_filter(yy,ws), '-k', xx, fit_fn_baseline(xx), '--r')\n",
    "delta= yy[0]-fit_fn_baseline(xx[0])\n",
    "delta = 0\n",
    "\n",
    "\n",
    "plt.plot(scipy.ndimage.median_filter(xx,ws),-1*scipy.ndimage.median_filter(yy[0]+yy-fit_fn_baseline(xx)-delta,ws), '-b')\n",
    "plt.xlabel(\"time[s]\")\n",
    "plt.ylabel(\"force[pN]\")\n",
    "\n"
   ]
  },
  {
   "cell_type": "code",
   "execution_count": 188,
   "metadata": {},
   "outputs": [
    {
     "name": "stdout",
     "output_type": "stream",
     "text": [
      "\n",
      "/Users/johannesschoeneberg/Dropbox/ESCRT_data_sharing/m5_2018-06-12_v6/.//forceFile.png\n"
     ]
    },
    {
     "data": {
      "image/png": "[encoded data removed]",
      "text/plain": [
       "<matplotlib.figure.Figure at 0x18252ce8d0>"
      ]
     },
     "metadata": {},
     "output_type": "display_data"
    },
    {
     "name": "stdout",
     "output_type": "stream",
     "text": [
      "f0_baselineForce: 26.16pN\n",
      "fmax_maxForce: 61.61pN\n",
      "∆F: 35.45pN\n"
     ]
    }
   ],
   "source": [
    "# rescaling approx..\n",
    "\n",
    "idx0 = getTrajectoryIndexOfTimePoint(zoomTime0,t)\n",
    "idx1 = getTrajectoryIndexOfTimePoint(zoomTime1,t)\n",
    "\n",
    "\n",
    "plt.figure(dpi=150)\n",
    "\n",
    "#plt.gca().set_aspect(5)\n",
    "\n",
    "\n",
    "time = t[idx0:idx1]\n",
    "trace = cleanForceFileAfterBreak(y,t,breakTime)[idx0:idx1]\n",
    "fittedTrace = fit_fn_baseline(t[idx0:idx1])\n",
    "\n",
    "trace_correctedFor_drift = yForceRaw-fit_fn_baseline(t)\n",
    "trace_correctedFor_drift_yZero = trace_correctedFor_drift-np.average(trace_correctedFor_drift[0:1000])\n",
    "correctedTrace = forceScale*trace_correctedFor_drift_yZero\n",
    "timeSlice = t[idx0:idx1]\n",
    "traceSlice = cleanForceFileAfterBreak(correctedTrace,t,breakTime)[idx0:idx1]\n",
    "\n",
    "#fig = plt.figure(figsize=(6, 4), dpi=100)\n",
    "plt.plot(timeSlice-time_UV,scipy.ndimage.median_filter(traceSlice,100),c='k',lw=3)\n",
    "plt.xlabel(\"time [s]\")\n",
    "plt.ylabel(\"force [pN]\")\n",
    "plt.axvline(0, color='k', linestyle='--', lw=0.8)\n",
    "\n",
    "# draw a vertical line where the movie starts if that info is already available\n",
    "movie_startTime_difference_fftime_seconds = inproc.getInputParameter(inputParameters,\"movie_startTime_difference_fftime_seconds\")\n",
    "if(movie_startTime_difference_fftime_seconds != 'TBD'):\n",
    "    plt.axvline(float(movie_startTime_difference_fftime_seconds)-time_UV, color='blue', linestyle='--', lw=0.8)\n",
    "    \n",
    "plt.xlim(xlimit[0],xlimit[1])\n",
    "plt.gca().spines['right'].set_visible(False)\n",
    "plt.gca().spines['top'].set_visible(False)\n",
    "#plt.title('black dash: UV, blue dash: movie start')\n",
    "\n",
    "outputDataFolder = inproc.getInputParameter(inputParameters,\"output_data_folder\")\n",
    "forceFile_plot = inproc.getInputParameter(inputParameters,\"forceFile_plot\")\n",
    "outputPath = path+outputDataFolder+'/'+forceFile_plot\n",
    "print()\n",
    "print(outputPath)\n",
    "plt.savefig(outputPath)\n",
    "plt.show()\n",
    "\n",
    "\n",
    "\n",
    "baselineForce = np.average(correctedTrace[baseline_idx0:baseline_idx1])\n",
    "traceSliceUvToEnd = traceSlice[getTrajectoryIndexOfTimePoint(time_UV,timeSlice):-1]\n",
    "maxForce = np.max(scipy.ndimage.median_filter(traceSliceUvToEnd,100))\n",
    "print(\"f0_baselineForce: {}pN\".format(np.round(baselineForce,2)))\n",
    "print(\"fmax_maxForce: {}pN\".format(np.round(maxForce,2)))\n",
    "print(\"∆F: {}pN\".format(np.round(maxForce-baselineForce,2)))\n",
    "\n",
    "\n",
    "\n"
   ]
  },
  {
   "cell_type": "code",
   "execution_count": 193,
   "metadata": {},
   "outputs": [
    {
     "name": "stdout",
     "output_type": "stream",
     "text": [
      "            key  value\n",
      "19  force_f0_pN  26.16\n",
      "              key  value\n",
      "20  force_fmax_pN  61.61\n",
      "                key  value\n",
      "21  force_deltaF_pN  35.45\n"
     ]
    }
   ],
   "source": [
    "# save in _info.csv\n",
    "row = inputParameters.loc[inputParameters['key'] == 'force_f0_pN']\n",
    "inputParameters.loc[row.index,'value'] = np.round(baselineForce,2)\n",
    "print(inputParameters.loc[inputParameters['key'] == 'force_f0_pN'])\n",
    "\n",
    "row = inputParameters.loc[inputParameters['key'] == 'force_fmax_pN']\n",
    "inputParameters.loc[row.index,'value'] = np.round(maxForce,2)\n",
    "print(inputParameters.loc[inputParameters['key'] == 'force_fmax_pN'])\n",
    "\n",
    "row = inputParameters.loc[inputParameters['key'] == 'force_deltaF_pN']\n",
    "inputParameters.loc[row.index,'value'] = np.round(maxForce-baselineForce,2)\n",
    "print(inputParameters.loc[inputParameters['key'] == 'force_deltaF_pN'])\n",
    "\n",
    "\n",
    "inputParameters.to_csv(path+'_info.csv',index=False)"
   ]
  },
  {
   "cell_type": "code",
   "execution_count": 194,
   "metadata": {},
   "outputs": [
    {
     "name": "stdout",
     "output_type": "stream",
     "text": [
      "/Users/johannesschoeneberg/Dropbox/ESCRT_data_sharing/m5_2018-06-12_v6/.//forceFile.csv\n"
     ]
    }
   ],
   "source": [
    "## OUTPUT\n",
    "outputDataFolder = inproc.getInputParameter(inputParameters,\"output_data_folder\")\n",
    "forceFile_name = inproc.getInputParameter(inputParameters,\"forceFile\")\n",
    "outputPath = path+outputDataFolder+'/'+forceFile_name\n",
    "print(outputPath)\n",
    "\n",
    "#only write every 10th datapoint (otherwise you end up with 10s of megabytes of force data)\n",
    "out_time = (timeSlice-time_UV)[::10]\n",
    "out_force = scipy.ndimage.median_filter(traceSlice,100)[::10]\n",
    "output_data = np.transpose(np.asarray((out_time,out_force)))\n",
    "\n",
    "\n",
    "with open(outputPath,'wb') as outfile:\n",
    "    np.savetxt(outfile, \n",
    "           output_data, \n",
    "           delimiter=',',\n",
    "           fmt='%10.5f',\n",
    "           header=\"time[s], force[pN]\"\n",
    "              ) "
   ]
  },
  {
   "cell_type": "code",
   "execution_count": null,
   "metadata": {
    "collapsed": true
   },
   "outputs": [],
   "source": []
  },
  {
   "cell_type": "markdown",
   "metadata": {},
   "source": [
    "# QPD raw readout"
   ]
  },
  {
   "cell_type": "code",
   "execution_count": 11,
   "metadata": {},
   "outputs": [
    {
     "ename": "KeyboardInterrupt",
     "evalue": "",
     "output_type": "error",
     "traceback": [
      "\u001b[0;31m---------------------------------------------------------------------------\u001b[0m",
      "\u001b[0;31mKeyboardInterrupt\u001b[0m                         Traceback (most recent call last)",
      "\u001b[0;32m<ipython-input-11-491d48cf2b98>\u001b[0m in \u001b[0;36m<module>\u001b[0;34m()\u001b[0m\n\u001b[0;32m----> 1\u001b[0;31m \u001b[0mlvm\u001b[0m \u001b[0;34m=\u001b[0m \u001b[0mlvm_read\u001b[0m\u001b[0;34m.\u001b[0m\u001b[0mread\u001b[0m\u001b[0;34m(\u001b[0m\u001b[0minfilename\u001b[0m\u001b[0;34m,\u001b[0m \u001b[0mread_from_pickle\u001b[0m\u001b[0;34m=\u001b[0m\u001b[0;32mFalse\u001b[0m\u001b[0;34m)\u001b[0m\u001b[0;34m\u001b[0m\u001b[0m\n\u001b[0m\u001b[1;32m      2\u001b[0m \u001b[0;31m#print(lvm['Description'])\u001b[0m\u001b[0;34m\u001b[0m\u001b[0;34m\u001b[0m\u001b[0m\n\u001b[1;32m      3\u001b[0m \u001b[0;34m\u001b[0m\u001b[0m\n\u001b[1;32m      4\u001b[0m \u001b[0;31m#datetime = getLVMdatetime(lvm[0]['Time'][0],lvm[0]['Date'][0])\u001b[0m\u001b[0;34m\u001b[0m\u001b[0;34m\u001b[0m\u001b[0m\n\u001b[1;32m      5\u001b[0m \u001b[0;34m\u001b[0m\u001b[0m\n",
      "\u001b[0;32m~/anaconda3/lib/python3.6/site-packages/lvm_read.py\u001b[0m in \u001b[0;36mread\u001b[0;34m(filename, read_from_pickle, dump_file)\u001b[0m\n\u001b[1;32m    164\u001b[0m         \u001b[0;32mreturn\u001b[0m \u001b[0mlvm_data\u001b[0m\u001b[0;34m\u001b[0m\u001b[0m\n\u001b[1;32m    165\u001b[0m     \u001b[0;32melse\u001b[0m\u001b[0;34m:\u001b[0m\u001b[0;34m\u001b[0m\u001b[0m\n\u001b[0;32m--> 166\u001b[0;31m         \u001b[0mlvm_data\u001b[0m \u001b[0;34m=\u001b[0m \u001b[0m_read_lvm_base\u001b[0m\u001b[0;34m(\u001b[0m\u001b[0mfilename\u001b[0m\u001b[0;34m)\u001b[0m\u001b[0;34m\u001b[0m\u001b[0m\n\u001b[0m\u001b[1;32m    167\u001b[0m         \u001b[0;32mif\u001b[0m \u001b[0mdump_file\u001b[0m\u001b[0;34m:\u001b[0m\u001b[0;34m\u001b[0m\u001b[0m\n\u001b[1;32m    168\u001b[0m             \u001b[0m_lvm_dump\u001b[0m\u001b[0;34m(\u001b[0m\u001b[0mlvm_data\u001b[0m\u001b[0;34m,\u001b[0m \u001b[0mfilename\u001b[0m\u001b[0;34m)\u001b[0m\u001b[0;34m\u001b[0m\u001b[0m\n",
      "\u001b[0;32m~/anaconda3/lib/python3.6/site-packages/lvm_read.py\u001b[0m in \u001b[0;36m_read_lvm_base\u001b[0;34m(filename)\u001b[0m\n\u001b[1;32m     94\u001b[0m         \u001b[0;32melif\u001b[0m \u001b[0mdata_reading\u001b[0m\u001b[0;34m:\u001b[0m\u001b[0;31m#this was moved up, to speed up the reading\u001b[0m\u001b[0;34m\u001b[0m\u001b[0m\n\u001b[1;32m     95\u001b[0m             seg_data.append([float(a.replace(lvm_data['Decimal_Separator'], '.') if a else 'NaN') for a in\n\u001b[0;32m---> 96\u001b[0;31m                              line_sp[first_column:(nr_of_columns + 1)]])\n\u001b[0m\u001b[1;32m     97\u001b[0m         \u001b[0;32melif\u001b[0m \u001b[0msegment\u001b[0m\u001b[0;34m==\u001b[0m\u001b[0;32mNone\u001b[0m\u001b[0;34m:\u001b[0m\u001b[0;34m\u001b[0m\u001b[0m\n\u001b[1;32m     98\u001b[0m             \u001b[0;32mif\u001b[0m \u001b[0mlen\u001b[0m\u001b[0;34m(\u001b[0m\u001b[0mline_sp\u001b[0m\u001b[0;34m)\u001b[0m \u001b[0;32mis\u001b[0m \u001b[0;36m2\u001b[0m\u001b[0;34m:\u001b[0m\u001b[0;34m\u001b[0m\u001b[0m\n",
      "\u001b[0;32m~/anaconda3/lib/python3.6/site-packages/lvm_read.py\u001b[0m in \u001b[0;36m<listcomp>\u001b[0;34m(.0)\u001b[0m\n\u001b[1;32m     93\u001b[0m             \u001b[0;32mcontinue\u001b[0m\u001b[0;34m\u001b[0m\u001b[0m\n\u001b[1;32m     94\u001b[0m         \u001b[0;32melif\u001b[0m \u001b[0mdata_reading\u001b[0m\u001b[0;34m:\u001b[0m\u001b[0;31m#this was moved up, to speed up the reading\u001b[0m\u001b[0;34m\u001b[0m\u001b[0m\n\u001b[0;32m---> 95\u001b[0;31m             seg_data.append([float(a.replace(lvm_data['Decimal_Separator'], '.') if a else 'NaN') for a in\n\u001b[0m\u001b[1;32m     96\u001b[0m                              line_sp[first_column:(nr_of_columns + 1)]])\n\u001b[1;32m     97\u001b[0m         \u001b[0;32melif\u001b[0m \u001b[0msegment\u001b[0m\u001b[0;34m==\u001b[0m\u001b[0;32mNone\u001b[0m\u001b[0;34m:\u001b[0m\u001b[0;34m\u001b[0m\u001b[0m\n",
      "\u001b[0;31mKeyboardInterrupt\u001b[0m: "
     ]
    }
   ],
   "source": [
    " lvm = lvm_read.read(infilename, read_from_pickle=False)\n",
    "#print(lvm['Description'])\n",
    "\n",
    "#datetime = getLVMdatetime(lvm[0]['Time'][0],lvm[0]['Date'][0])\n",
    "\n",
    "data = lvm[0]['data']\n",
    "t = data[:,0]\n",
    "xForce = data[:,1]\n",
    "yForce = data[:,2]\n",
    "xForceRaw = data[:,3]\n",
    "yForceRaw = data[:,4]\n",
    "a_voltage = data[:,5]\n",
    "b_voltage = data[:,6]\n",
    "c_voltage = data[:,7]\n",
    "d_voltage = data[:,8]\n",
    "\n",
    "\n",
    "plt.plot(t,scipy.ndimage.median_filter(a_voltage,50),c=\"k\",label='a_voltage')\n",
    "plt.plot(t,scipy.ndimage.median_filter(b_voltage,50),c=\"y\",label='b_voltage')\n",
    "plt.plot(t,scipy.ndimage.median_filter(c_voltage,50),c=\"g\",label='c_voltage')\n",
    "plt.plot(t,scipy.ndimage.median_filter(d_voltage,50),c=\"orange\",label='d_voltage')\n",
    "plt.legend()\n",
    "plt.title(\"Raw Voltages QPD\")\n",
    "plt.xlabel(\"time [s]\")\n",
    "plt.ylabel(\"Voltage [AU]\")"
   ]
  },
  {
   "cell_type": "code",
   "execution_count": null,
   "metadata": {
    "collapsed": true
   },
   "outputs": [],
   "source": []
  },
  {
   "cell_type": "code",
   "execution_count": null,
   "metadata": {
    "collapsed": true
   },
   "outputs": [],
   "source": []
  }
 ],
 "metadata": {
  "kernelspec": {
   "display_name": "Python 3",
   "language": "python",
   "name": "python3"
  },
  "language_info": {
   "codemirror_mode": {
    "name": "ipython",
    "version": 3
   },
   "file_extension": ".py",
   "mimetype": "text/x-python",
   "name": "python",
   "nbconvert_exporter": "python",
   "pygments_lexer": "ipython3",
   "version": "3.6.3"
  }
 },
 "nbformat": 4,
 "nbformat_minor": 2
}
