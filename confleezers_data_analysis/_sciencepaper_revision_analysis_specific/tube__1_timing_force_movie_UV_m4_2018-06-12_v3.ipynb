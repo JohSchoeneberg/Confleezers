{
 "cells": [
  {
   "cell_type": "markdown",
   "metadata": {},
   "source": [
    "Copyright (c) 2017/2018, Johannes Schöneberg. All rights reserved.\n",
    "The default copyright laws apply."
   ]
  },
  {
   "cell_type": "code",
   "execution_count": 44,
   "metadata": {
    "collapsed": true
   },
   "outputs": [],
   "source": [
    "%matplotlib inline\n",
    "\n",
    "import lvm_read\n",
    "import numpy as np\n",
    "import matplotlib.pyplot as plt\n",
    "import datetime\n",
    "import time\n",
    "\n",
    "import os\n",
    "import datetime\n",
    "\n",
    "import pandas as pd\n",
    "\n",
    "#own modules / functions\n",
    "import sys\n",
    "pythonPackagePath = \"/Users/johannesschoeneberg/git/JohSchoeneberg/Confleezers/confleezers_data_analysis/\"\n",
    "sys.path.append(pythonPackagePath+\"/modules\")\n",
    "import InputProcessing as inproc\n",
    "import ForceFileProcessing as ffp"
   ]
  },
  {
   "cell_type": "code",
   "execution_count": 1,
   "metadata": {
    "collapsed": true
   },
   "outputs": [],
   "source": [
    "def getSecondsRelativeToCreationOfForceFile(forceFileCreationTimestamp, timeString):\n",
    "    #convert the time string into a datetime tuple\n",
    "    date_time = timeString.split(\" \")\n",
    "    dateSplit = date_time[0].split('-')\n",
    "    timeSplit = date_time[1].split(':')\n",
    "    otherFileTimeStamp = datetime.datetime(int(dateSplit[0]), \n",
    "                         int(dateSplit[1]), \n",
    "                         int(dateSplit[2]), \n",
    "                         int(timeSplit[0]), \n",
    "                         int(timeSplit[1]), \n",
    "                         int(timeSplit[2].split('.')[0]), \n",
    "                        0)\n",
    "    #subtract the seconds\n",
    "    forceFileTimeCreatedSeconds = time.mktime(forceFileTimeCreated.timetuple())\n",
    "    otherFileCreatedSeconds = time.mktime(otherFileTimeStamp.timetuple())\n",
    "    return(otherFileCreatedSeconds-forceFileTimeCreatedSeconds)\n",
    "    "
   ]
  },
  {
   "cell_type": "code",
   "execution_count": 2,
   "metadata": {},
   "outputs": [
    {
     "ename": "NameError",
     "evalue": "name 'pd' is not defined",
     "output_type": "error",
     "traceback": [
      "\u001b[0;31m---------------------------------------------------------------------------\u001b[0m",
      "\u001b[0;31mNameError\u001b[0m                                 Traceback (most recent call last)",
      "\u001b[0;32m<ipython-input-2-d40941645b1c>\u001b[0m in \u001b[0;36m<module>\u001b[0;34m()\u001b[0m\n\u001b[1;32m      1\u001b[0m \u001b[0mpath\u001b[0m \u001b[0;34m=\u001b[0m \u001b[0;34m'/Users/johannesschoeneberg/Dropbox/ESCRT_data_sharing/m4_2018-06-12_v3/'\u001b[0m\u001b[0;34m\u001b[0m\u001b[0m\n\u001b[1;32m      2\u001b[0m \u001b[0;34m\u001b[0m\u001b[0m\n\u001b[0;32m----> 3\u001b[0;31m \u001b[0minputParameters\u001b[0m \u001b[0;34m=\u001b[0m \u001b[0mpd\u001b[0m\u001b[0;34m.\u001b[0m\u001b[0mread_csv\u001b[0m\u001b[0;34m(\u001b[0m\u001b[0mpath\u001b[0m\u001b[0;34m+\u001b[0m\u001b[0;34m'_info.csv'\u001b[0m\u001b[0;34m,\u001b[0m\u001b[0mnames\u001b[0m\u001b[0;34m=\u001b[0m\u001b[0;34m[\u001b[0m\u001b[0;34m'key'\u001b[0m\u001b[0;34m,\u001b[0m\u001b[0;34m'value'\u001b[0m\u001b[0;34m]\u001b[0m\u001b[0;34m)\u001b[0m\u001b[0;34m\u001b[0m\u001b[0m\n\u001b[0m\u001b[1;32m      4\u001b[0m \u001b[0;34m\u001b[0m\u001b[0m\n\u001b[1;32m      5\u001b[0m \u001b[0minputDataFolder\u001b[0m \u001b[0;34m=\u001b[0m \u001b[0minproc\u001b[0m\u001b[0;34m.\u001b[0m\u001b[0mgetInputParameter\u001b[0m\u001b[0;34m(\u001b[0m\u001b[0minputParameters\u001b[0m\u001b[0;34m,\u001b[0m\u001b[0;34m\"input_data_folder\"\u001b[0m\u001b[0;34m)\u001b[0m\u001b[0;34m\u001b[0m\u001b[0m\n",
      "\u001b[0;31mNameError\u001b[0m: name 'pd' is not defined"
     ]
    }
   ],
   "source": [
    "path = '/Users/johannesschoeneberg/Dropbox/ESCRT_data_sharing/m4_2018-06-12_v3/'\n",
    "\n",
    "inputParameters = pd.read_csv(path+'_info.csv',names=['key','value'])\n",
    "\n",
    "inputDataFolder = inproc.getInputParameter(inputParameters,\"input_data_folder\")\n",
    "\n",
    "\n",
    "inputParameters"
   ]
  },
  {
   "cell_type": "code",
   "execution_count": 47,
   "metadata": {},
   "outputs": [
    {
     "name": "stdout",
     "output_type": "stream",
     "text": [
      "/Users/johannesschoeneberg/Dropbox/ESCRT_data_sharing/m4_2018-06-12_v3/forceFile_raw.lvm\n",
      "forceFile_startTime,  2018-06-12 18:49:57\n"
     ]
    }
   ],
   "source": [
    "# read the timestamp from the force file automatically\n",
    "forceFile_raw_dataShareFilename = inproc.getInputParameter(inputParameters,\"forceFile_raw_dataShareFilename\")\n",
    "infilename = path+forceFile_raw_dataShareFilename\n",
    "print(infilename)\n",
    "t,x,y,forceFileTimeCreated,xforceraw,yforceraw = ffp.readForceFile(infilename)\n",
    "\n",
    "# f\n",
    "forceFile_startTime = forceFileTimeCreated.strftime('%Y-%m-%d %H:%M:%S')\n",
    "print(\"forceFile_startTime, \",forceFile_startTime)\n",
    "\n"
   ]
  },
  {
   "cell_type": "code",
   "execution_count": 60,
   "metadata": {},
   "outputs": [
    {
     "name": "stdout",
     "output_type": "stream",
     "text": [
      "                   key                value\n",
      "9  forceFile_startTime  2018-06-12 18:49:57\n"
     ]
    }
   ],
   "source": [
    "#put in _info.csv \n",
    "row = inputParameters.loc[inputParameters['key'] == 'forceFile_startTime']\n",
    "inputParameters['value'] = inputParameters['value'].replace(row['value'].values,forceFile_startTime)\n",
    "row = inputParameters.loc[inputParameters['key'] == 'forceFile_startTime']\n",
    "print(row)"
   ]
  },
  {
   "cell_type": "code",
   "execution_count": 62,
   "metadata": {},
   "outputs": [
    {
     "name": "stdout",
     "output_type": "stream",
     "text": [
      "movie_startTime, 2018-06-12 18:53:17\n",
      "                                          key value\n",
      "22  movie_startTime_difference_fftime_seconds   200\n",
      "\n"
     ]
    }
   ],
   "source": [
    "# read the timestamp from movie manually (fiji, info of file)\n",
    "#timestampMovie = \"TextInfoItem_99/12/201 = 7:35:33 PM\"\n",
    "#movieStartTime = \"2017-09-12 19:35:33\"\n",
    "movie_startTimes = inproc.getInputParameter(inputParameters,\"movie_startTime\").split(';')\n",
    "\n",
    "\n",
    "#Nikon Movie:\n",
    "for movie_startTime in movie_startTimes:\n",
    "    print(\"movie_startTime,\",movie_startTime)\n",
    "    seconds_ffStart_to_movieStart = getSecondsRelativeToCreationOfForceFile(forceFileTimeCreated,movie_startTime)\n",
    "    #print(\"movie_startTime_difference_fftime_seconds,\",seconds_ffStart_to_movieStart)\n",
    "    \n",
    "    #put in _info.csv \n",
    "    row = inputParameters.loc[inputParameters['key'] == 'movie_startTime_difference_fftime_seconds']\n",
    "    inputParameters['value'] = inputParameters['value'].replace(row['value'].values,seconds_ffStart_to_movieStart)\n",
    "    row = inputParameters.loc[inputParameters['key'] == 'movie_startTime_difference_fftime_seconds']\n",
    "    print(row)\n",
    "    \n",
    "    print()"
   ]
  },
  {
   "cell_type": "code",
   "execution_count": 66,
   "metadata": {},
   "outputs": [
    {
     "name": "stdout",
     "output_type": "stream",
     "text": [
      "                                           key value\n",
      "23  movie_startTime_difference_UVstart_seconds   -70\n"
     ]
    }
   ],
   "source": [
    "UVstart_seconds_fftime = int(inproc.getInputParameter(inputParameters,\"UVstart_seconds_fftime\"))\n",
    "\n",
    "movie_startTime_difference_UVstart_seconds = seconds_ffStart_to_movieStart-UVstart_seconds_fftime\n",
    "\n",
    "#print(\"movie_startTime_difference_UVstart_seconds,\",movie_startTime_difference_UVstart_seconds)\n",
    "\n",
    "#put in _info.csv \n",
    "row = inputParameters.loc[inputParameters['key'] == 'movie_startTime_difference_UVstart_seconds']\n",
    "inputParameters['value'] = inputParameters['value'].replace(row['value'].values,movie_startTime_difference_UVstart_seconds)\n",
    "row = inputParameters.loc[inputParameters['key'] == 'movie_startTime_difference_UVstart_seconds']\n",
    "print(row)"
   ]
  },
  {
   "cell_type": "markdown",
   "metadata": {},
   "source": [
    "# save data in _info.csv"
   ]
  },
  {
   "cell_type": "code",
   "execution_count": 68,
   "metadata": {
    "collapsed": true
   },
   "outputs": [],
   "source": [
    "inputParameters.to_csv(path+'_info.csv',index=False)"
   ]
  },
  {
   "cell_type": "markdown",
   "metadata": {},
   "source": [
    "# Other sometimes maybe useful functions"
   ]
  },
  {
   "cell_type": "code",
   "execution_count": null,
   "metadata": {
    "collapsed": true
   },
   "outputs": [],
   "source": [
    "\n",
    "def getLastModifiedTime(filename):\n",
    "    imageTimeCreated = os.path.getmtime(filename)\n",
    "    #print(imageTimeCreated)\n",
    "\n",
    "    \n",
    "    timestamp = imageTimeCreated\n",
    "    value = datetime.datetime.fromtimestamp(timestamp)\n",
    "    \n",
    "    stringtime = value.strftime('%Y-%m-%d %H:%M:%S')\n",
    "#    print(stringtime)\n",
    "    \n",
    "    return([imageTimeCreated,stringtime])\n",
    "    "
   ]
  },
  {
   "cell_type": "code",
   "execution_count": 14,
   "metadata": {},
   "outputs": [
    {
     "data": {
      "text/plain": [
       "[1505270544.0, '2017-09-12 19:42:24']"
      ]
     },
     "execution_count": 14,
     "metadata": {},
     "output_type": "execute_result"
    }
   ],
   "source": [
    "getLastModifiedTime(\"./input/vesicle_tube_UV_movie.nd2\")"
   ]
  },
  {
   "cell_type": "code",
   "execution_count": 15,
   "metadata": {
    "collapsed": true
   },
   "outputs": [],
   "source": [
    "def getLVMdatetime(lvmTimeString,lvmDateString):\n",
    "    dateString = lvmDateString\n",
    "    dateSplit=dateString.split('/')\n",
    "    \n",
    "\n",
    "    timeString = lvmTimeString\n",
    "    timeSplit=timeString.split(':')\n",
    "\n",
    "    #test = datetime.datetime(2017, 6, 26, 18, 21, 16, 533499)\n",
    "    # this is the time the file was r\n",
    "    test = datetime.datetime(int(dateSplit[0]), \n",
    "                         int(dateSplit[1]), \n",
    "                         int(dateSplit[2]), \n",
    "                         int(timeSplit[0]), \n",
    "                         int(timeSplit[1]), \n",
    "                         int(timeSplit[2].split('.')[0]), \n",
    "                        0)\n",
    "    \n",
    "    #print(test.strftime('%Y-%m-%d %H:%M:%S'))\n",
    "    return test"
   ]
  },
  {
   "cell_type": "code",
   "execution_count": 16,
   "metadata": {
    "collapsed": true
   },
   "outputs": [],
   "source": [
    "import os\n",
    "import platform\n",
    "\n",
    "def creation_date(path_to_file):\n",
    "    \"\"\"\n",
    "    Try to get the date that a file was created, falling back to when it was\n",
    "    last modified if that isn't possible.\n",
    "    See http://stackoverflow.com/a/39501288/1709587 for explanation.\n",
    "    \"\"\"\n",
    "    if platform.system() == 'Windows':\n",
    "        return os.path.getctime(path_to_file)\n",
    "    else:\n",
    "        stat = os.stat(path_to_file)\n",
    "        try:\n",
    "            return stat.st_birthtime\n",
    "        except AttributeError:\n",
    "            # We're probably on Linux. No easy way to get creation dates here,\n",
    "            # so we'll settle for when its content was last modified.\n",
    "            return stat.st_mtime"
   ]
  },
  {
   "cell_type": "code",
   "execution_count": 17,
   "metadata": {},
   "outputs": [
    {
     "data": {
      "text/plain": [
       "[1505270544.0, '2017-09-12 19:42:24']"
      ]
     },
     "execution_count": 17,
     "metadata": {},
     "output_type": "execute_result"
    }
   ],
   "source": [
    "getLastModifiedTime(\"./input/vesicle_tube_UV_movie.nd2\")"
   ]
  }
 ],
 "metadata": {
  "kernelspec": {
   "display_name": "Python 3",
   "language": "python",
   "name": "python3"
  },
  "language_info": {
   "codemirror_mode": {
    "name": "ipython",
    "version": 3
   },
   "file_extension": ".py",
   "mimetype": "text/x-python",
   "name": "python",
   "nbconvert_exporter": "python",
   "pygments_lexer": "ipython3",
   "version": "3.6.3"
  }
 },
 "nbformat": 4,
 "nbformat_minor": 2
}
