{
 "cells": [
  {
   "cell_type": "markdown",
   "metadata": {},
   "source": [
    "Copyright (c) 2017, Johannes Schöneberg. All rights reserved.\n",
    "The default copyright laws apply."
   ]
  },
  {
   "cell_type": "code",
   "execution_count": 8,
   "metadata": {
    "collapsed": true
   },
   "outputs": [],
   "source": [
    "%matplotlib inline\n",
    "\n",
    "import lvm_read\n",
    "import numpy as np\n",
    "import matplotlib.pyplot as plt\n",
    "import datetime\n",
    "import time\n",
    "\n",
    "import os\n",
    "import datetime"
   ]
  },
  {
   "cell_type": "code",
   "execution_count": 9,
   "metadata": {
    "collapsed": true
   },
   "outputs": [],
   "source": [
    "def getLVMdatetime(lvmTimeString,lvmDateString):\n",
    "    dateString = lvmDateString\n",
    "    dateSplit=dateString.split('/')\n",
    "    \n",
    "\n",
    "    timeString = lvmTimeString\n",
    "    timeSplit=timeString.split(':')\n",
    "\n",
    "    #test = datetime.datetime(2017, 6, 26, 18, 21, 16, 533499)\n",
    "    # this is the time the file was r\n",
    "    test = datetime.datetime(int(dateSplit[0]), \n",
    "                         int(dateSplit[1]), \n",
    "                         int(dateSplit[2]), \n",
    "                         int(timeSplit[0]), \n",
    "                         int(timeSplit[1]), \n",
    "                         int(timeSplit[2].split('.')[0]), \n",
    "                        0)\n",
    "    \n",
    "    #print(test.strftime('%Y-%m-%d %H:%M:%S'))\n",
    "    return test"
   ]
  },
  {
   "cell_type": "code",
   "execution_count": 10,
   "metadata": {
    "collapsed": true
   },
   "outputs": [],
   "source": [
    "def readForceFile(filename):\n",
    "    lvm = lvm_read.read(\"./\"+infilename, read_from_pickle=False)\n",
    "    #print(lvm['Description'])\n",
    "    \n",
    "    datetime = getLVMdatetime(lvm[0]['Time'][0],lvm[0]['Date'][0])\n",
    "    \n",
    "    data = lvm[0]['data']\n",
    "    t = data[:,0]\n",
    "    x = data[:,1]\n",
    "    y = data[:,2]\n",
    "    \n",
    "    \n",
    "    return [t,x,y,datetime]"
   ]
  },
  {
   "cell_type": "code",
   "execution_count": 11,
   "metadata": {
    "collapsed": true
   },
   "outputs": [],
   "source": [
    "def getSecondsRelativeToCreationOfForceFile(forceFileCreationTimestamp, timeString):\n",
    "    #convert the time string into a datetime tuple\n",
    "    date_time = timeString.split(\" \")\n",
    "    dateSplit = date_time[0].split('-')\n",
    "    timeSplit = date_time[1].split(':')\n",
    "    otherFileTimeStamp = datetime.datetime(int(dateSplit[0]), \n",
    "                         int(dateSplit[1]), \n",
    "                         int(dateSplit[2]), \n",
    "                         int(timeSplit[0]), \n",
    "                         int(timeSplit[1]), \n",
    "                         int(timeSplit[2].split('.')[0]), \n",
    "                        0)\n",
    "    #subtract the seconds\n",
    "    forceFileTimeCreatedSeconds = time.mktime(forceFileTimeCreated.timetuple())\n",
    "    otherFileCreatedSeconds = time.mktime(otherFileTimeStamp.timetuple())\n",
    "    return(otherFileCreatedSeconds-forceFileTimeCreatedSeconds)\n",
    "    "
   ]
  },
  {
   "cell_type": "code",
   "execution_count": 12,
   "metadata": {},
   "outputs": [
    {
     "name": "stdout",
     "output_type": "stream",
     "text": [
      "nikon movie start time 2017-09-12 19:35:33\n",
      "force file start time:  2017-09-12 19:34:39\n",
      "seconds_ffStart_to_movieStart 54.0\n"
     ]
    }
   ],
   "source": [
    "# read the timestamp from the force file automatically\n",
    "id = 66\n",
    "infilename = \"./input/measurement__0\"+str(id)+\".lvm\"\n",
    "\n",
    "t,x,y,forceFileTimeCreated = readForceFile(infilename)\n",
    "\n",
    "\n",
    "\n",
    "\n",
    "# read the timestamp from movie manually (fiji, info of file)\n",
    "timestampMovie = \"TextInfoItem_99/12/201 = 7:35:33 PM\"\n",
    "movieStartTime = \"2017-09-12 19:35:33\"\n",
    "\n",
    "#Nikon Movie:\n",
    "print(\"nikon movie start time\",movieStartTime)\n",
    "\n",
    "# what is the movie time, when we are 500s in the trajectory?\n",
    "print(\"force file start time: \",forceFileTimeCreated.strftime('%Y-%m-%d %H:%M:%S'))\n",
    "\n",
    "\n",
    "seconds_ffStart_to_movieStart = getSecondsRelativeToCreationOfForceFile(forceFileTimeCreated,movieStartTime)\n",
    "print(\"seconds_ffStart_to_movieStart\",seconds_ffStart_to_movieStart)\n",
    "\n",
    "\n",
    "\n",
    "\n"
   ]
  },
  {
   "cell_type": "markdown",
   "metadata": {},
   "source": [
    "# Other sometimes maybe useful functions"
   ]
  },
  {
   "cell_type": "code",
   "execution_count": 13,
   "metadata": {
    "collapsed": true
   },
   "outputs": [],
   "source": [
    "\n",
    "def getLastModifiedTime(filename):\n",
    "    imageTimeCreated = os.path.getmtime(filename)\n",
    "    #print(imageTimeCreated)\n",
    "\n",
    "    \n",
    "    timestamp = imageTimeCreated\n",
    "    value = datetime.datetime.fromtimestamp(timestamp)\n",
    "    \n",
    "    stringtime = value.strftime('%Y-%m-%d %H:%M:%S')\n",
    "#    print(stringtime)\n",
    "    \n",
    "    return([imageTimeCreated,stringtime])\n",
    "    "
   ]
  },
  {
   "cell_type": "code",
   "execution_count": 14,
   "metadata": {},
   "outputs": [
    {
     "data": {
      "text/plain": [
       "[1505270544.0, '2017-09-12 19:42:24']"
      ]
     },
     "execution_count": 14,
     "metadata": {},
     "output_type": "execute_result"
    }
   ],
   "source": [
    "getLastModifiedTime(\"./input/vesicle_tube_UV_movie.nd2\")"
   ]
  },
  {
   "cell_type": "code",
   "execution_count": 15,
   "metadata": {
    "collapsed": true
   },
   "outputs": [],
   "source": [
    "def getLVMdatetime(lvmTimeString,lvmDateString):\n",
    "    dateString = lvmDateString\n",
    "    dateSplit=dateString.split('/')\n",
    "    \n",
    "\n",
    "    timeString = lvmTimeString\n",
    "    timeSplit=timeString.split(':')\n",
    "\n",
    "    #test = datetime.datetime(2017, 6, 26, 18, 21, 16, 533499)\n",
    "    # this is the time the file was r\n",
    "    test = datetime.datetime(int(dateSplit[0]), \n",
    "                         int(dateSplit[1]), \n",
    "                         int(dateSplit[2]), \n",
    "                         int(timeSplit[0]), \n",
    "                         int(timeSplit[1]), \n",
    "                         int(timeSplit[2].split('.')[0]), \n",
    "                        0)\n",
    "    \n",
    "    #print(test.strftime('%Y-%m-%d %H:%M:%S'))\n",
    "    return test"
   ]
  },
  {
   "cell_type": "code",
   "execution_count": 16,
   "metadata": {
    "collapsed": true
   },
   "outputs": [],
   "source": [
    "import os\n",
    "import platform\n",
    "\n",
    "def creation_date(path_to_file):\n",
    "    \"\"\"\n",
    "    Try to get the date that a file was created, falling back to when it was\n",
    "    last modified if that isn't possible.\n",
    "    See http://stackoverflow.com/a/39501288/1709587 for explanation.\n",
    "    \"\"\"\n",
    "    if platform.system() == 'Windows':\n",
    "        return os.path.getctime(path_to_file)\n",
    "    else:\n",
    "        stat = os.stat(path_to_file)\n",
    "        try:\n",
    "            return stat.st_birthtime\n",
    "        except AttributeError:\n",
    "            # We're probably on Linux. No easy way to get creation dates here,\n",
    "            # so we'll settle for when its content was last modified.\n",
    "            return stat.st_mtime"
   ]
  },
  {
   "cell_type": "code",
   "execution_count": 17,
   "metadata": {},
   "outputs": [
    {
     "data": {
      "text/plain": [
       "[1505270544.0, '2017-09-12 19:42:24']"
      ]
     },
     "execution_count": 17,
     "metadata": {},
     "output_type": "execute_result"
    }
   ],
   "source": [
    "getLastModifiedTime(\"./input/vesicle_tube_UV_movie.nd2\")"
   ]
  }
 ],
 "metadata": {
  "kernelspec": {
   "display_name": "Python 3",
   "language": "python",
   "name": "python3"
  },
  "language_info": {
   "codemirror_mode": {
    "name": "ipython",
    "version": 3
   },
   "file_extension": ".py",
   "mimetype": "text/x-python",
   "name": "python",
   "nbconvert_exporter": "python",
   "pygments_lexer": "ipython3",
   "version": "3.6.1"
  }
 },
 "nbformat": 4,
 "nbformat_minor": 2
}
