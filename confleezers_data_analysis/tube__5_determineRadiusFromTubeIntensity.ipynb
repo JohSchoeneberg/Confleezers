{
 "cells": [
  {
   "cell_type": "markdown",
   "metadata": {},
   "source": [
    "Copyright (c) 2017,2018, Johannes Schöneberg. All rights reserved.\n",
    "The default copyright laws apply."
   ]
  },
  {
   "cell_type": "code",
   "execution_count": 33,
   "metadata": {
    "collapsed": true
   },
   "outputs": [],
   "source": [
    "import csv\n",
    "\n",
    "\n",
    "#http://soft-matter.github.io/trackpy/v0.3.2/tutorial/walkthrough.html\n",
    "\n",
    "\n",
    "from __future__ import division, unicode_literals, print_function  # for compatibility with Python 2 and 3\n",
    "\n",
    "import matplotlib as mpl\n",
    "import matplotlib.pyplot as plt\n",
    "\n",
    "# change the following to %matplotlib notebook for interactive plotting\n",
    "%matplotlib inline\n",
    "\n",
    "# Optionally, tweak styles.\n",
    "#mpl.rc('figure',  figsize=(10, 6))\n",
    "#mpl.rc('image', cmap='gray')\n",
    "\n",
    "import numpy as np\n",
    "import pandas as pd\n",
    "from pandas import DataFrame, Series  # for convenience\n",
    "\n",
    "import pims\n",
    "\n",
    "import scipy\n",
    "\n",
    "\n",
    "import math\n",
    "\n",
    "from scipy import optimize\n",
    "\n",
    "import scipy.ndimage\n",
    "\n",
    "#own modules / functions\n",
    "import sys\n",
    "pythonPackagePath = \"/Users/johannesschoeneberg/git/JohSchoeneberg/Confleezers/confleezers_data_analysis/\"\n",
    "sys.path.append(pythonPackagePath+\"/modules\")\n",
    "import InputProcessing as inproc\n",
    "import ForceFileProcessing as ffp\n",
    "import TubeProcessing as tubeProc"
   ]
  },
  {
   "cell_type": "code",
   "execution_count": 34,
   "metadata": {},
   "outputs": [
    {
     "data": {
      "text/html": [
       "<div>\n",
       "<style scoped>\n",
       "    .dataframe tbody tr th:only-of-type {\n",
       "        vertical-align: middle;\n",
       "    }\n",
       "\n",
       "    .dataframe tbody tr th {\n",
       "        vertical-align: top;\n",
       "    }\n",
       "\n",
       "    .dataframe thead th {\n",
       "        text-align: right;\n",
       "    }\n",
       "</style>\n",
       "<table border=\"1\" class=\"dataframe\">\n",
       "  <thead>\n",
       "    <tr style=\"text-align: right;\">\n",
       "      <th></th>\n",
       "      <th>key</th>\n",
       "      <th>value</th>\n",
       "    </tr>\n",
       "  </thead>\n",
       "  <tbody>\n",
       "    <tr>\n",
       "      <th>0</th>\n",
       "      <td>key</td>\n",
       "      <td>value</td>\n",
       "    </tr>\n",
       "    <tr>\n",
       "      <th>1</th>\n",
       "      <td>key</td>\n",
       "      <td>value</td>\n",
       "    </tr>\n",
       "    <tr>\n",
       "      <th>2</th>\n",
       "      <td>key</td>\n",
       "      <td>value</td>\n",
       "    </tr>\n",
       "    <tr>\n",
       "      <th>3</th>\n",
       "      <td>key</td>\n",
       "      <td>value</td>\n",
       "    </tr>\n",
       "    <tr>\n",
       "      <th>4</th>\n",
       "      <td>key</td>\n",
       "      <td>rocknroll</td>\n",
       "    </tr>\n",
       "  </tbody>\n",
       "</table>\n",
       "</div>"
      ],
      "text/plain": [
       "   key      value\n",
       "0  key      value\n",
       "1  key      value\n",
       "2  key      value\n",
       "3  key      value\n",
       "4  key  rocknroll"
      ]
     },
     "execution_count": 34,
     "metadata": {},
     "output_type": "execute_result"
    }
   ],
   "source": [
    "# read input parameters:\n",
    "path = '/Volumes/Samsung_T3b/science/confleezers/2018-06-12/v6/'\n",
    "\n",
    "inputParameters = pd.read_csv(path+'_info.csv',names=['key','value'])\n",
    "inputParameters[0:5]"
   ]
  },
  {
   "cell_type": "code",
   "execution_count": 35,
   "metadata": {},
   "outputs": [
    {
     "data": {
      "text/html": [
       "<div>\n",
       "<style scoped>\n",
       "    .dataframe tbody tr th:only-of-type {\n",
       "        vertical-align: middle;\n",
       "    }\n",
       "\n",
       "    .dataframe tbody tr th {\n",
       "        vertical-align: top;\n",
       "    }\n",
       "\n",
       "    .dataframe thead th {\n",
       "        text-align: right;\n",
       "    }\n",
       "</style>\n",
       "<table border=\"1\" class=\"dataframe\">\n",
       "  <thead>\n",
       "    <tr style=\"text-align: right;\">\n",
       "      <th></th>\n",
       "      <th>Unnamed: 0</th>\n",
       "      <th>fluorescenceIntensityTube[AU]</th>\n",
       "      <th>time[s]</th>\n",
       "    </tr>\n",
       "  </thead>\n",
       "  <tbody>\n",
       "    <tr>\n",
       "      <th>0</th>\n",
       "      <td>0</td>\n",
       "      <td>296.520762</td>\n",
       "      <td>-63.000</td>\n",
       "    </tr>\n",
       "    <tr>\n",
       "      <th>1</th>\n",
       "      <td>1</td>\n",
       "      <td>296.520762</td>\n",
       "      <td>-62.667</td>\n",
       "    </tr>\n",
       "    <tr>\n",
       "      <th>2</th>\n",
       "      <td>2</td>\n",
       "      <td>296.520762</td>\n",
       "      <td>-62.334</td>\n",
       "    </tr>\n",
       "    <tr>\n",
       "      <th>3</th>\n",
       "      <td>3</td>\n",
       "      <td>296.520762</td>\n",
       "      <td>-62.001</td>\n",
       "    </tr>\n",
       "    <tr>\n",
       "      <th>4</th>\n",
       "      <td>4</td>\n",
       "      <td>296.520762</td>\n",
       "      <td>-61.668</td>\n",
       "    </tr>\n",
       "  </tbody>\n",
       "</table>\n",
       "</div>"
      ],
      "text/plain": [
       "   Unnamed: 0  fluorescenceIntensityTube[AU]  time[s]\n",
       "0           0                     296.520762  -63.000\n",
       "1           1                     296.520762  -62.667\n",
       "2           2                     296.520762  -62.334\n",
       "3           3                     296.520762  -62.001\n",
       "4           4                     296.520762  -61.668"
      ]
     },
     "execution_count": 35,
     "metadata": {},
     "output_type": "execute_result"
    }
   ],
   "source": [
    "# read the movie frames\n",
    "\n",
    "#frames_ch0 = pims.TiffStack_pil('/Users/johannesschoeneberg/Desktop/PostDoc/hurley_lab/pulling_confleezers_dataSharing_local/2018-06-05_movie1/movie_ch0_avg20_zoomVesicle.tif') \n",
    "\n",
    "inputDataFolder = inproc.getInputParameter(inputParameters,\"input_data_folder\")\n",
    "outputDataFolder = inproc.getInputParameter(inputParameters,\"output_data_folder\")\n",
    "movie_zoomVesicle_ch0 = \"movie_ch0_avg20_bleachCorrected.tif\"\n",
    "\n",
    "#df_tubeFluorescence = pd.read_csv(path+outputDataFolder+movie_zoomVesicle_ch0+'__gaussFitAlongTube_medianFilter60.csv')\n",
    "df_tubeFluorescence = pd.read_csv(path+outputDataFolder+'movie_ch0_avg20_bleachCorrected.tif__gaussFitAlongTube_medianFilter60.csv')\n",
    "\n",
    "df_tubeFluorescence[0:5]\n"
   ]
  },
  {
   "cell_type": "code",
   "execution_count": 36,
   "metadata": {
    "collapsed": true
   },
   "outputs": [],
   "source": [
    "def calculateTubeRadius(I_tube,I_vesicle):\n",
    "    prefactorForTubeRadius = 161 #nm\n",
    "    interceptForTubeRadius = 4.4\n",
    "#    prefactorForTubeRadius = 156.9 #161 #nm\n",
    "#    interceptForTubeRadius = 10.6 #4.4\n",
    "    print(I_tube/I_vesicle)\n",
    "    return interceptForTubeRadius + prefactorForTubeRadius * I_tube/I_vesicle"
   ]
  },
  {
   "cell_type": "markdown",
   "metadata": {},
   "source": [
    "# calculate the radius from the tube intensity "
   ]
  },
  {
   "cell_type": "code",
   "execution_count": 37,
   "metadata": {},
   "outputs": [
    {
     "name": "stdout",
     "output_type": "stream",
     "text": [
      "[ 0.24556585  0.24556585  0.24556585 ...,  0.01041438  0.0123768   0.0123768 ]\n",
      "[ 0.24556585  0.24556585  0.24556585 ...,  0.01041438  0.0123768   0.0123768 ]\n"
     ]
    },
    {
     "data": {
      "text/plain": [
       "Text(0.5,0,'time [frames]')"
      ]
     },
     "execution_count": 37,
     "metadata": {},
     "output_type": "execute_result"
    },
    {
     "data": {
      "image/png": "[encoded data removed]",
      "text/plain": [
       "<matplotlib.figure.Figure at 0x1a15a9a748>"
      ]
     },
     "metadata": {},
     "output_type": "display_data"
    },
    {
     "data": {
      "image/png": "[encoded data removed]",
      "text/plain": [
       "<matplotlib.figure.Figure at 0x1a15aa3080>"
      ]
     },
     "metadata": {},
     "output_type": "display_data"
    }
   ],
   "source": [
    "I_tube_exp = df_tubeFluorescence['fluorescenceIntensityTube[AU]'].values;\n",
    "\n",
    "plt.plot(I_tube_exp)\n",
    "# get the vesicle intensity by drawing a line accross the vesicle at different time \n",
    "# points and reading off the peak intensity\n",
    "I_vesicle_exp = np.average([1424, 1269, 1357, 1099,1082,1014]);\n",
    "#print(\"I_tube_exp\",I_tube_exp,\"I_vesicle_exp\",I_vesicle_exp)\n",
    "\n",
    "\n",
    "\n",
    "######\n",
    "\n",
    "\n",
    "deltaT = int(float(inproc.getInputParameter(inputParameters,\"movie_startTime_difference_UVstart_seconds\")))\n",
    "frameRate = float(inproc.getInputParameter(inputParameters,\"time_between_frames_seconds\"))\n",
    "# we have a shift in time since the movie got cut out\n",
    "# \n",
    "\n",
    "time = deltaT + np.arange(0,len(I_tube_exp))*frameRate\n",
    "\n",
    "\n",
    "plt.figure(dpi=150)\n",
    "plt.gca().set_aspect(15)\n",
    "#\n",
    "tubeRadius_raw = np.round(calculateTubeRadius(I_tube_exp,I_vesicle_exp),decimals=2);\n",
    "\n",
    "#generic standard deviation filter on a window\n",
    "from scipy.ndimage.filters import generic_filter\n",
    "movingStandardDeviation_tubeRadius = generic_filter(tubeRadius_raw, np.std, size=5)\n",
    "plt.plot(time,movingStandardDeviation_tubeRadius,lw=3,c='grey',alpha=0.1);\n",
    "\n",
    "\n",
    "\n",
    "\n",
    "#####\n",
    "\n",
    "\n",
    "\n",
    "tubeRadius_raw = np.round(calculateTubeRadius(I_tube_exp,I_vesicle_exp),decimals=2);\n",
    "tubeRadius = tubeRadius_raw\n",
    "#tubeRadius[tubeRadius > 20] = np.nan\n",
    "#tubeRadius[tubeRadius < 4] = np.nan\n",
    "#print(\"tubeRadius: {}nm\".format(tubeRadius))\n",
    "\n",
    "plt.plot(time,scipy.ndimage.median_filter(tubeRadius,40),lw=0,c='k',marker='o',markersize=0.5);\n",
    "plt.ylim(0,100)\n",
    "plt.gca().set_yticks(range(0,100,10))\n",
    "\n",
    "plt.xlim(-100,4000)\n",
    "plt.gca().spines['right'].set_visible(False)\n",
    "plt.gca().spines['top'].set_visible(False)\n",
    "plt.ylabel('tube radius [nm]')\n",
    "plt.xlabel('time [frames]')\n",
    "\n"
   ]
  },
  {
   "cell_type": "code",
   "execution_count": 38,
   "metadata": {},
   "outputs": [
    {
     "name": "stdout",
     "output_type": "stream",
     "text": [
      "/Volumes/Samsung_T3b/science/confleezers/2018-06-12/v6/./tube_radius.csv\n"
     ]
    },
    {
     "data": {
      "text/html": [
       "<div>\n",
       "<style scoped>\n",
       "    .dataframe tbody tr th:only-of-type {\n",
       "        vertical-align: middle;\n",
       "    }\n",
       "\n",
       "    .dataframe tbody tr th {\n",
       "        vertical-align: top;\n",
       "    }\n",
       "\n",
       "    .dataframe thead th {\n",
       "        text-align: right;\n",
       "    }\n",
       "</style>\n",
       "<table border=\"1\" class=\"dataframe\">\n",
       "  <thead>\n",
       "    <tr style=\"text-align: right;\">\n",
       "      <th></th>\n",
       "      <th>radius[nm]</th>\n",
       "      <th>time</th>\n",
       "    </tr>\n",
       "  </thead>\n",
       "  <tbody>\n",
       "    <tr>\n",
       "      <th>0</th>\n",
       "      <td>43.94</td>\n",
       "      <td>-63.000</td>\n",
       "    </tr>\n",
       "    <tr>\n",
       "      <th>1</th>\n",
       "      <td>43.94</td>\n",
       "      <td>-62.667</td>\n",
       "    </tr>\n",
       "    <tr>\n",
       "      <th>2</th>\n",
       "      <td>43.94</td>\n",
       "      <td>-62.334</td>\n",
       "    </tr>\n",
       "    <tr>\n",
       "      <th>3</th>\n",
       "      <td>43.94</td>\n",
       "      <td>-62.001</td>\n",
       "    </tr>\n",
       "    <tr>\n",
       "      <th>4</th>\n",
       "      <td>43.94</td>\n",
       "      <td>-61.668</td>\n",
       "    </tr>\n",
       "    <tr>\n",
       "      <th>5</th>\n",
       "      <td>43.94</td>\n",
       "      <td>-61.335</td>\n",
       "    </tr>\n",
       "    <tr>\n",
       "      <th>6</th>\n",
       "      <td>43.94</td>\n",
       "      <td>-61.002</td>\n",
       "    </tr>\n",
       "    <tr>\n",
       "      <th>7</th>\n",
       "      <td>43.94</td>\n",
       "      <td>-60.669</td>\n",
       "    </tr>\n",
       "    <tr>\n",
       "      <th>8</th>\n",
       "      <td>43.94</td>\n",
       "      <td>-60.336</td>\n",
       "    </tr>\n",
       "    <tr>\n",
       "      <th>9</th>\n",
       "      <td>43.94</td>\n",
       "      <td>-60.003</td>\n",
       "    </tr>\n",
       "  </tbody>\n",
       "</table>\n",
       "</div>"
      ],
      "text/plain": [
       "   radius[nm]    time\n",
       "0       43.94 -63.000\n",
       "1       43.94 -62.667\n",
       "2       43.94 -62.334\n",
       "3       43.94 -62.001\n",
       "4       43.94 -61.668\n",
       "5       43.94 -61.335\n",
       "6       43.94 -61.002\n",
       "7       43.94 -60.669\n",
       "8       43.94 -60.336\n",
       "9       43.94 -60.003"
      ]
     },
     "execution_count": 38,
     "metadata": {},
     "output_type": "execute_result"
    }
   ],
   "source": [
    "df = pd.DataFrame({'time': time, 'radius[nm]': scipy.ndimage.median_filter(tubeRadius,40)})\n",
    "df = df[df['radius[nm]']>0]\n",
    "outputpath = path+outputDataFolder+\"tube_radius.csv\"\n",
    "print(outputpath)\n",
    "df.to_csv(outputpath)\n",
    "df[0:10]"
   ]
  },
  {
   "cell_type": "code",
   "execution_count": null,
   "metadata": {
    "collapsed": true
   },
   "outputs": [],
   "source": []
  },
  {
   "cell_type": "code",
   "execution_count": null,
   "metadata": {
    "collapsed": true
   },
   "outputs": [],
   "source": []
  },
  {
   "cell_type": "code",
   "execution_count": null,
   "metadata": {
    "collapsed": true
   },
   "outputs": [],
   "source": []
  }
 ],
 "metadata": {
  "kernelspec": {
   "display_name": "Python 3",
   "language": "python",
   "name": "python3"
  },
  "language_info": {
   "codemirror_mode": {
    "name": "ipython",
    "version": 3
   },
   "file_extension": ".py",
   "mimetype": "text/x-python",
   "name": "python",
   "nbconvert_exporter": "python",
   "pygments_lexer": "ipython3",
   "version": "3.6.3"
  }
 },
 "nbformat": 4,
 "nbformat_minor": 2
}
